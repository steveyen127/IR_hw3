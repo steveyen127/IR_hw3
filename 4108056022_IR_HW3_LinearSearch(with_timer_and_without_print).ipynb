{
  "nbformat": 4,
  "nbformat_minor": 0,
  "metadata": {
    "colab": {
      "provenance": [],
      "authorship_tag": "ABX9TyM1TgYEwksEnMFXfLHqd43U",
      "include_colab_link": true
    },
    "kernelspec": {
      "name": "python3",
      "display_name": "Python 3"
    },
    "language_info": {
      "name": "python"
    }
  },
  "cells": [
    {
      "cell_type": "markdown",
      "metadata": {
        "id": "view-in-github",
        "colab_type": "text"
      },
      "source": [
        "<a href=\"https://colab.research.google.com/github/steveyen127/IR_hw3/blob/main/4108056022_IR_HW3_LinearSearch(with_timer_and_without_print).ipynb\" target=\"_parent\"><img src=\"https://colab.research.google.com/assets/colab-badge.svg\" alt=\"Open In Colab\"/></a>"
      ]
    },
    {
      "cell_type": "code",
      "execution_count": 1,
      "metadata": {
        "colab": {
          "base_uri": "https://localhost:8080/"
        },
        "id": "doyHVZK35tE_",
        "outputId": "92f32aa2-a20f-4993-b2a8-832e0f69a5fb"
      },
      "outputs": [
        {
          "output_type": "stream",
          "name": "stdout",
          "text": [
            "Mounted at /drive\n"
          ]
        }
      ],
      "source": [
        "from google.colab import drive\n",
        "drive.mount('/drive')\n",
        "\n",
        "\n"
      ]
    },
    {
      "cell_type": "code",
      "source": [
        "import json\n",
        "import numpy\n",
        "file_name = '/drive/MyDrive/pubmed220train.txt'\n",
        "\n",
        "with open(\"documents.json\", \"w\") as outfile:\n",
        "  myList = []\n",
        "  with open(file_name, \"r\") as f:\n",
        "    text = f.readlines()\n",
        "    for i in str(text).split(\"###\"):\n",
        "      doc = i.replace(\"\\\\n\", \"\")\\\n",
        "            .replace(\"BACKGROUND\\\\t\", \"\")\\\n",
        "            .replace(\"OBJECTIVE\\\\t\", \"\")\\\n",
        "            .replace(\"METHODS\\\\t\", \"\")\\\n",
        "            .replace(\"RESULTS\\\\t\", \"\")\\\n",
        "            .replace(\"CONCLUSIONS\\\\t\", \"\")\n",
        "      #print(doc.split())\n",
        "      new_string = \" \".join(doc.split())\n",
        "      id_doc = new_string.replace(\"',\", \"\").replace(\"'\",\"\")\n",
        "      id = id_doc.split()[0]\n",
        "      content = \" \".join(id_doc.split()[1:])\n",
        "      new_content = content.replace(\"[\", \"\").replace('\\\"', \"\").replace(\"]\",\"\")\n",
        "      dictionary = {\n",
        "          \"id\": id,\n",
        "          \"contents\": new_content,\n",
        "      }\n",
        "      if id != '[':\n",
        "        myList.append(dictionary)\n",
        "        #print(dictionary)\n",
        "\n",
        "  json.dump(myList, outfile)\n",
        "  #print(myList)\n"
      ],
      "metadata": {
        "id": "ImvDQuPE7HS-"
      },
      "execution_count": 20,
      "outputs": []
    },
    {
      "cell_type": "code",
      "source": [
        "import time\n",
        "\n",
        "with open('/content/documents.json', \"r\") as jsonfile:\n",
        "  json_data = json.load(jsonfile)\n",
        "\n",
        "  #word to search for\n",
        "  search = 'cancer'\n",
        "  start = time.perf_counter()\n",
        "  for i in json_data:\n",
        "    data_list = list(i.values())\n",
        "    content = data_list[1].split()\n",
        "    count = 0\n",
        "    for word in content:\n",
        "      if search == word:\n",
        "        count+=1\n",
        "    #if count > 0:\n",
        "      #print(f'{data_list[0]} Keyword frequency : ', count)\n",
        "      #print('{\\n \"id\" : \"'+ data_list[0] + '\", \\n \"content\" : \" ' + data_list[1] + ' \" \\n}')\n",
        "  \n",
        "  end = time.perf_counter()\n",
        "  print(f\"Linear Search finished in {end - start:0.4f} seconds\")"
      ],
      "metadata": {
        "colab": {
          "base_uri": "https://localhost:8080/"
        },
        "id": "iq96f7DY7h9m",
        "outputId": "395270f0-e29c-4f65-ebea-7fe2dfc155de"
      },
      "execution_count": 23,
      "outputs": [
        {
          "output_type": "stream",
          "name": "stdout",
          "text": [
            "Linear Search finished in 8.6340 seconds\n"
          ]
        }
      ]
    }
  ]
}