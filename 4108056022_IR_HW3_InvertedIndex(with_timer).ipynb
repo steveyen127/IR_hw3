{
  "nbformat": 4,
  "nbformat_minor": 0,
  "metadata": {
    "colab": {
      "provenance": [],
      "collapsed_sections": [],
      "mount_file_id": "1RrJtwu1edWE_GrH3Bgvjb8o0VUe_4j2I",
      "authorship_tag": "ABX9TyOldlbnNpze5XKrwIiZLQpW",
      "include_colab_link": true
    },
    "kernelspec": {
      "name": "python3",
      "display_name": "Python 3"
    },
    "language_info": {
      "name": "python"
    }
  },
  "cells": [
    {
      "cell_type": "markdown",
      "metadata": {
        "id": "view-in-github",
        "colab_type": "text"
      },
      "source": [
        "<a href=\"https://colab.research.google.com/github/steveyen127/IR_hw3/blob/main/4108056022_IR_HW3_InvertedIndex(with_timer).ipynb\" target=\"_parent\"><img src=\"https://colab.research.google.com/assets/colab-badge.svg\" alt=\"Open In Colab\"/></a>"
      ]
    },
    {
      "cell_type": "code",
      "source": [
        "!pip install pyserini"
      ],
      "metadata": {
        "colab": {
          "base_uri": "https://localhost:8080/"
        },
        "id": "FUN9GumnTGQe",
        "outputId": "cf2acdbd-7f2c-4222-ae64-5cccfdf5034c"
      },
      "execution_count": 5,
      "outputs": [
        {
          "output_type": "stream",
          "name": "stdout",
          "text": [
            "Looking in indexes: https://pypi.org/simple, https://us-python.pkg.dev/colab-wheels/public/simple/\n",
            "Collecting pyserini\n",
            "  Downloading pyserini-0.18.0-py3-none-any.whl (114.8 MB)\n",
            "\u001b[K     |████████████████████████████████| 114.8 MB 89 kB/s \n",
            "\u001b[?25hRequirement already satisfied: pandas>=1.1.5 in /usr/local/lib/python3.7/dist-packages (from pyserini) (1.3.5)\n",
            "Collecting onnxruntime>=1.8.1\n",
            "  Downloading onnxruntime-1.12.1-cp37-cp37m-manylinux_2_27_x86_64.whl (4.9 MB)\n",
            "\u001b[K     |████████████████████████████████| 4.9 MB 37.7 MB/s \n",
            "\u001b[?25hCollecting transformers>=4.6.0\n",
            "  Downloading transformers-4.23.1-py3-none-any.whl (5.3 MB)\n",
            "\u001b[K     |████████████████████████████████| 5.3 MB 41.0 MB/s \n",
            "\u001b[?25hRequirement already satisfied: scipy>=1.4.1 in /usr/local/lib/python3.7/dist-packages (from pyserini) (1.7.3)\n",
            "Requirement already satisfied: scikit-learn>=0.22.1 in /usr/local/lib/python3.7/dist-packages (from pyserini) (1.0.2)\n",
            "Requirement already satisfied: tqdm in /usr/local/lib/python3.7/dist-packages (from pyserini) (4.64.1)\n",
            "Requirement already satisfied: spacy>=3.2.1 in /usr/local/lib/python3.7/dist-packages (from pyserini) (3.4.1)\n",
            "Requirement already satisfied: Cython>=0.29.21 in /usr/local/lib/python3.7/dist-packages (from pyserini) (0.29.32)\n",
            "Collecting lightgbm>=3.3.2\n",
            "  Downloading lightgbm-3.3.3-py3-none-manylinux1_x86_64.whl (2.0 MB)\n",
            "\u001b[K     |████████████████████████████████| 2.0 MB 55.2 MB/s \n",
            "\u001b[?25hCollecting nmslib>=2.1.1\n",
            "  Downloading nmslib-2.1.1-cp37-cp37m-manylinux2010_x86_64.whl (13.5 MB)\n",
            "\u001b[K     |████████████████████████████████| 13.5 MB 47.8 MB/s \n",
            "\u001b[?25hCollecting pyjnius>=1.4.0\n",
            "  Downloading pyjnius-1.4.2-cp37-cp37m-manylinux_2_17_x86_64.manylinux2014_x86_64.whl (1.3 MB)\n",
            "\u001b[K     |████████████████████████████████| 1.3 MB 53.6 MB/s \n",
            "\u001b[?25hCollecting sentencepiece>=0.1.95\n",
            "  Downloading sentencepiece-0.1.97-cp37-cp37m-manylinux_2_17_x86_64.manylinux2014_x86_64.whl (1.3 MB)\n",
            "\u001b[K     |████████████████████████████████| 1.3 MB 52.2 MB/s \n",
            "\u001b[?25hRequirement already satisfied: numpy>=1.18.1 in /usr/local/lib/python3.7/dist-packages (from pyserini) (1.21.6)\n",
            "Requirement already satisfied: wheel in /usr/local/lib/python3.7/dist-packages (from lightgbm>=3.3.2->pyserini) (0.37.1)\n",
            "Collecting pybind11<2.6.2\n",
            "  Downloading pybind11-2.6.1-py2.py3-none-any.whl (188 kB)\n",
            "\u001b[K     |████████████████████████████████| 188 kB 36.2 MB/s \n",
            "\u001b[?25hRequirement already satisfied: psutil in /usr/local/lib/python3.7/dist-packages (from nmslib>=2.1.1->pyserini) (5.4.8)\n",
            "Requirement already satisfied: protobuf in /usr/local/lib/python3.7/dist-packages (from onnxruntime>=1.8.1->pyserini) (3.17.3)\n",
            "Collecting coloredlogs\n",
            "  Downloading coloredlogs-15.0.1-py2.py3-none-any.whl (46 kB)\n",
            "\u001b[K     |████████████████████████████████| 46 kB 3.5 MB/s \n",
            "\u001b[?25hRequirement already satisfied: sympy in /usr/local/lib/python3.7/dist-packages (from onnxruntime>=1.8.1->pyserini) (1.7.1)\n",
            "Requirement already satisfied: packaging in /usr/local/lib/python3.7/dist-packages (from onnxruntime>=1.8.1->pyserini) (21.3)\n",
            "Requirement already satisfied: flatbuffers in /usr/local/lib/python3.7/dist-packages (from onnxruntime>=1.8.1->pyserini) (1.12)\n",
            "Requirement already satisfied: python-dateutil>=2.7.3 in /usr/local/lib/python3.7/dist-packages (from pandas>=1.1.5->pyserini) (2.8.2)\n",
            "Requirement already satisfied: pytz>=2017.3 in /usr/local/lib/python3.7/dist-packages (from pandas>=1.1.5->pyserini) (2022.4)\n",
            "Requirement already satisfied: six>=1.7.0 in /usr/local/lib/python3.7/dist-packages (from pyjnius>=1.4.0->pyserini) (1.15.0)\n",
            "Requirement already satisfied: threadpoolctl>=2.0.0 in /usr/local/lib/python3.7/dist-packages (from scikit-learn>=0.22.1->pyserini) (3.1.0)\n",
            "Requirement already satisfied: joblib>=0.11 in /usr/local/lib/python3.7/dist-packages (from scikit-learn>=0.22.1->pyserini) (1.2.0)\n",
            "Requirement already satisfied: typing-extensions<4.2.0,>=3.7.4 in /usr/local/lib/python3.7/dist-packages (from spacy>=3.2.1->pyserini) (4.1.1)\n",
            "Requirement already satisfied: typer<0.5.0,>=0.3.0 in /usr/local/lib/python3.7/dist-packages (from spacy>=3.2.1->pyserini) (0.4.2)\n",
            "Requirement already satisfied: cymem<2.1.0,>=2.0.2 in /usr/local/lib/python3.7/dist-packages (from spacy>=3.2.1->pyserini) (2.0.6)\n",
            "Requirement already satisfied: requests<3.0.0,>=2.13.0 in /usr/local/lib/python3.7/dist-packages (from spacy>=3.2.1->pyserini) (2.23.0)\n",
            "Requirement already satisfied: thinc<8.2.0,>=8.1.0 in /usr/local/lib/python3.7/dist-packages (from spacy>=3.2.1->pyserini) (8.1.3)\n",
            "Requirement already satisfied: spacy-loggers<2.0.0,>=1.0.0 in /usr/local/lib/python3.7/dist-packages (from spacy>=3.2.1->pyserini) (1.0.3)\n",
            "Requirement already satisfied: preshed<3.1.0,>=3.0.2 in /usr/local/lib/python3.7/dist-packages (from spacy>=3.2.1->pyserini) (3.0.7)\n",
            "Requirement already satisfied: srsly<3.0.0,>=2.4.3 in /usr/local/lib/python3.7/dist-packages (from spacy>=3.2.1->pyserini) (2.4.4)\n",
            "Requirement already satisfied: jinja2 in /usr/local/lib/python3.7/dist-packages (from spacy>=3.2.1->pyserini) (2.11.3)\n",
            "Requirement already satisfied: wasabi<1.1.0,>=0.9.1 in /usr/local/lib/python3.7/dist-packages (from spacy>=3.2.1->pyserini) (0.10.1)\n",
            "Requirement already satisfied: murmurhash<1.1.0,>=0.28.0 in /usr/local/lib/python3.7/dist-packages (from spacy>=3.2.1->pyserini) (1.0.8)\n",
            "Requirement already satisfied: langcodes<4.0.0,>=3.2.0 in /usr/local/lib/python3.7/dist-packages (from spacy>=3.2.1->pyserini) (3.3.0)\n",
            "Requirement already satisfied: catalogue<2.1.0,>=2.0.6 in /usr/local/lib/python3.7/dist-packages (from spacy>=3.2.1->pyserini) (2.0.8)\n",
            "Requirement already satisfied: spacy-legacy<3.1.0,>=3.0.9 in /usr/local/lib/python3.7/dist-packages (from spacy>=3.2.1->pyserini) (3.0.10)\n",
            "Requirement already satisfied: pathy>=0.3.5 in /usr/local/lib/python3.7/dist-packages (from spacy>=3.2.1->pyserini) (0.6.2)\n",
            "Requirement already satisfied: pydantic!=1.8,!=1.8.1,<1.10.0,>=1.7.4 in /usr/local/lib/python3.7/dist-packages (from spacy>=3.2.1->pyserini) (1.9.2)\n",
            "Requirement already satisfied: setuptools in /usr/local/lib/python3.7/dist-packages (from spacy>=3.2.1->pyserini) (57.4.0)\n",
            "Requirement already satisfied: zipp>=0.5 in /usr/local/lib/python3.7/dist-packages (from catalogue<2.1.0,>=2.0.6->spacy>=3.2.1->pyserini) (3.9.0)\n",
            "Requirement already satisfied: pyparsing!=3.0.5,>=2.0.2 in /usr/local/lib/python3.7/dist-packages (from packaging->onnxruntime>=1.8.1->pyserini) (3.0.9)\n",
            "Requirement already satisfied: smart-open<6.0.0,>=5.2.1 in /usr/local/lib/python3.7/dist-packages (from pathy>=0.3.5->spacy>=3.2.1->pyserini) (5.2.1)\n",
            "Requirement already satisfied: certifi>=2017.4.17 in /usr/local/lib/python3.7/dist-packages (from requests<3.0.0,>=2.13.0->spacy>=3.2.1->pyserini) (2022.9.24)\n",
            "Requirement already satisfied: urllib3!=1.25.0,!=1.25.1,<1.26,>=1.21.1 in /usr/local/lib/python3.7/dist-packages (from requests<3.0.0,>=2.13.0->spacy>=3.2.1->pyserini) (1.24.3)\n",
            "Requirement already satisfied: idna<3,>=2.5 in /usr/local/lib/python3.7/dist-packages (from requests<3.0.0,>=2.13.0->spacy>=3.2.1->pyserini) (2.10)\n",
            "Requirement already satisfied: chardet<4,>=3.0.2 in /usr/local/lib/python3.7/dist-packages (from requests<3.0.0,>=2.13.0->spacy>=3.2.1->pyserini) (3.0.4)\n",
            "Requirement already satisfied: confection<1.0.0,>=0.0.1 in /usr/local/lib/python3.7/dist-packages (from thinc<8.2.0,>=8.1.0->spacy>=3.2.1->pyserini) (0.0.3)\n",
            "Requirement already satisfied: blis<0.8.0,>=0.7.8 in /usr/local/lib/python3.7/dist-packages (from thinc<8.2.0,>=8.1.0->spacy>=3.2.1->pyserini) (0.7.8)\n",
            "Collecting huggingface-hub<1.0,>=0.10.0\n",
            "  Downloading huggingface_hub-0.10.1-py3-none-any.whl (163 kB)\n",
            "\u001b[K     |████████████████████████████████| 163 kB 47.2 MB/s \n",
            "\u001b[?25hRequirement already satisfied: regex!=2019.12.17 in /usr/local/lib/python3.7/dist-packages (from transformers>=4.6.0->pyserini) (2022.6.2)\n",
            "Requirement already satisfied: importlib-metadata in /usr/local/lib/python3.7/dist-packages (from transformers>=4.6.0->pyserini) (5.0.0)\n",
            "Collecting tokenizers!=0.11.3,<0.14,>=0.11.1\n",
            "  Downloading tokenizers-0.13.1-cp37-cp37m-manylinux_2_17_x86_64.manylinux2014_x86_64.whl (7.6 MB)\n",
            "\u001b[K     |████████████████████████████████| 7.6 MB 43.3 MB/s \n",
            "\u001b[?25hRequirement already satisfied: filelock in /usr/local/lib/python3.7/dist-packages (from transformers>=4.6.0->pyserini) (3.8.0)\n",
            "Requirement already satisfied: pyyaml>=5.1 in /usr/local/lib/python3.7/dist-packages (from transformers>=4.6.0->pyserini) (6.0)\n",
            "Requirement already satisfied: click<9.0.0,>=7.1.1 in /usr/local/lib/python3.7/dist-packages (from typer<0.5.0,>=0.3.0->spacy>=3.2.1->pyserini) (7.1.2)\n",
            "Collecting humanfriendly>=9.1\n",
            "  Downloading humanfriendly-10.0-py2.py3-none-any.whl (86 kB)\n",
            "\u001b[K     |████████████████████████████████| 86 kB 5.5 MB/s \n",
            "\u001b[?25hRequirement already satisfied: MarkupSafe>=0.23 in /usr/local/lib/python3.7/dist-packages (from jinja2->spacy>=3.2.1->pyserini) (2.0.1)\n",
            "Requirement already satisfied: mpmath>=0.19 in /usr/local/lib/python3.7/dist-packages (from sympy->onnxruntime>=1.8.1->pyserini) (1.2.1)\n",
            "Installing collected packages: humanfriendly, tokenizers, pybind11, huggingface-hub, coloredlogs, transformers, sentencepiece, pyjnius, onnxruntime, nmslib, lightgbm, pyserini\n",
            "  Attempting uninstall: lightgbm\n",
            "    Found existing installation: lightgbm 2.2.3\n",
            "    Uninstalling lightgbm-2.2.3:\n",
            "      Successfully uninstalled lightgbm-2.2.3\n",
            "Successfully installed coloredlogs-15.0.1 huggingface-hub-0.10.1 humanfriendly-10.0 lightgbm-3.3.3 nmslib-2.1.1 onnxruntime-1.12.1 pybind11-2.6.1 pyjnius-1.4.2 pyserini-0.18.0 sentencepiece-0.1.97 tokenizers-0.13.1 transformers-4.23.1\n"
          ]
        }
      ]
    },
    {
      "cell_type": "code",
      "source": [
        "from google.colab import drive\n",
        "drive.mount('/drive')\n"
      ],
      "metadata": {
        "colab": {
          "base_uri": "https://localhost:8080/"
        },
        "id": "GajZMI10i8Tp",
        "outputId": "a0cdf9c7-c0ec-4f3e-e48a-073528f6e3ab"
      },
      "execution_count": 6,
      "outputs": [
        {
          "output_type": "stream",
          "name": "stdout",
          "text": [
            "Drive already mounted at /drive; to attempt to forcibly remount, call drive.mount(\"/drive\", force_remount=True).\n"
          ]
        }
      ]
    },
    {
      "cell_type": "code",
      "execution_count": 15,
      "metadata": {
        "id": "pQR4mtc50WKP"
      },
      "outputs": [],
      "source": [
        "import json\n",
        "import numpy\n",
        "file_name = '/drive/MyDrive/pubmed220train.txt'\n",
        "\n",
        "with open(\"documents.json\", \"w\") as outfile:\n",
        "  myList = []\n",
        "  with open(file_name, \"r\") as f:\n",
        "    text = f.readlines()\n",
        "    for i in str(text).split(\"###\"):\n",
        "      doc = i.replace(\"\\\\n\", \"\")\\\n",
        "            .replace(\"BACKGROUND\\\\t\", \"\")\\\n",
        "            .replace(\"OBJECTIVE\\\\t\", \"\")\\\n",
        "            .replace(\"METHODS\\\\t\", \"\")\\\n",
        "            .replace(\"RESULTS\\\\t\", \"\")\\\n",
        "            .replace(\"CONCLUSIONS\\\\t\", \"\")\n",
        "      #print(doc.split())\n",
        "      new_string = \" \".join(doc.split())\n",
        "      id_doc = new_string.replace(\"',\", \"\").replace(\"'\",\"\")\n",
        "      id = id_doc.split()[0]\n",
        "      content = \" \".join(id_doc.split()[1:])\n",
        "      new_content = content.replace(\"[\", \"\").replace('\\\"', \"\").replace(\"]\",\"\")\n",
        "      dictionary = {\n",
        "          \"id\": id,\n",
        "          \"contents\": new_content,\n",
        "      }\n",
        "      if id != '[':\n",
        "        myList.append(dictionary)\n",
        "        #print(dictionary)\n",
        "\n",
        "  json.dump(myList, outfile)\n",
        "  #print(myList)"
      ]
    },
    {
      "cell_type": "code",
      "source": [
        "!python -m pyserini.index.lucene \\\n",
        "  --collection JsonCollection \\\n",
        "  --input /content/samples_json \\\n",
        "  --index /content/indexes/documents_json \\\n",
        "  --generator DefaultLuceneDocumentGenerator \\\n",
        "  --threads 1 \\\n",
        "  --storePositions --storeDocvectors --storeRaw\\\n",
        "  --storeContents"
      ],
      "metadata": {
        "colab": {
          "base_uri": "https://localhost:8080/"
        },
        "id": "eHF4JLbLi7ZG",
        "outputId": "0aa6097d-e878-48ec-b131-3794125045d6"
      },
      "execution_count": 18,
      "outputs": [
        {
          "output_type": "stream",
          "name": "stdout",
          "text": [
            "WARNING: sun.reflect.Reflection.getCallerClass is not supported. This will impact performance.\n",
            "2022-10-14 05:32:47,100 INFO  [main] index.IndexCollection (IndexCollection.java:248) - Setting log level to INFO\n",
            "2022-10-14 05:32:47,102 INFO  [main] index.IndexCollection (IndexCollection.java:251) - Starting indexer...\n",
            "2022-10-14 05:32:47,103 INFO  [main] index.IndexCollection (IndexCollection.java:252) - ============ Loading Parameters ============\n",
            "2022-10-14 05:32:47,103 INFO  [main] index.IndexCollection (IndexCollection.java:253) - DocumentCollection path: /content/samples_json\n",
            "2022-10-14 05:32:47,104 INFO  [main] index.IndexCollection (IndexCollection.java:254) - CollectionClass: JsonCollection\n",
            "2022-10-14 05:32:47,104 INFO  [main] index.IndexCollection (IndexCollection.java:255) - Generator: DefaultLuceneDocumentGenerator\n",
            "2022-10-14 05:32:47,105 INFO  [main] index.IndexCollection (IndexCollection.java:256) - Threads: 1\n",
            "2022-10-14 05:32:47,105 INFO  [main] index.IndexCollection (IndexCollection.java:257) - Language: en\n",
            "2022-10-14 05:32:47,105 INFO  [main] index.IndexCollection (IndexCollection.java:258) - Stemmer: porter\n",
            "2022-10-14 05:32:47,106 INFO  [main] index.IndexCollection (IndexCollection.java:259) - Keep stopwords? false\n",
            "2022-10-14 05:32:47,106 INFO  [main] index.IndexCollection (IndexCollection.java:260) - Stopwords: null\n",
            "2022-10-14 05:32:47,107 INFO  [main] index.IndexCollection (IndexCollection.java:261) - Store positions? true\n",
            "2022-10-14 05:32:47,107 INFO  [main] index.IndexCollection (IndexCollection.java:262) - Store docvectors? true\n",
            "2022-10-14 05:32:47,108 INFO  [main] index.IndexCollection (IndexCollection.java:263) - Store document \"contents\" field? true\n",
            "2022-10-14 05:32:47,108 INFO  [main] index.IndexCollection (IndexCollection.java:264) - Store document \"raw\" field? true\n",
            "2022-10-14 05:32:47,108 INFO  [main] index.IndexCollection (IndexCollection.java:265) - Additional fields to index: []\n",
            "2022-10-14 05:32:47,109 INFO  [main] index.IndexCollection (IndexCollection.java:266) - Optimize (merge segments)? false\n",
            "2022-10-14 05:32:47,109 INFO  [main] index.IndexCollection (IndexCollection.java:267) - Whitelist: null\n",
            "2022-10-14 05:32:47,110 INFO  [main] index.IndexCollection (IndexCollection.java:268) - Pretokenized?: false\n",
            "2022-10-14 05:32:47,110 INFO  [main] index.IndexCollection (IndexCollection.java:269) - Index path: /content/indexes/documents_json\n",
            "2022-10-14 05:32:47,113 INFO  [main] index.IndexCollection (IndexCollection.java:307) - ============ Indexing Collection ============\n",
            "2022-10-14 05:32:47,735 INFO  [main] index.IndexCollection (IndexCollection.java:417) - Thread pool with 1 threads initialized.\n",
            "2022-10-14 05:32:47,736 INFO  [main] index.IndexCollection (IndexCollection.java:419) - Initializing collection in /content/samples_json\n",
            "2022-10-14 05:32:47,738 INFO  [main] index.IndexCollection (IndexCollection.java:428) - 1 file found\n",
            "2022-10-14 05:32:47,740 INFO  [main] index.IndexCollection (IndexCollection.java:429) - Starting to index...\n",
            "2022-10-14 05:33:47,743 INFO  [main] index.IndexCollection (IndexCollection.java:441) - 160,000 documents indexed\n",
            "2022-10-14 05:33:56,366 DEBUG [pool-2-thread-1] index.IndexCollection$LocalIndexerThread (IndexCollection.java:213) - samples_json/documents.json: 190657 docs added.\n",
            "2022-10-14 05:34:03,917 INFO  [main] index.IndexCollection (IndexCollection.java:485) - Indexing Complete! 190,657 documents indexed\n",
            "2022-10-14 05:34:03,917 INFO  [main] index.IndexCollection (IndexCollection.java:486) - ============ Final Counter Values ============\n",
            "2022-10-14 05:34:03,917 INFO  [main] index.IndexCollection (IndexCollection.java:487) - indexed:          190,657\n",
            "2022-10-14 05:34:03,918 INFO  [main] index.IndexCollection (IndexCollection.java:488) - unindexable:            0\n",
            "2022-10-14 05:34:03,918 INFO  [main] index.IndexCollection (IndexCollection.java:489) - empty:                  0\n",
            "2022-10-14 05:34:03,918 INFO  [main] index.IndexCollection (IndexCollection.java:490) - skipped:                0\n",
            "2022-10-14 05:34:03,918 INFO  [main] index.IndexCollection (IndexCollection.java:491) - errors:                 0\n",
            "2022-10-14 05:34:03,926 INFO  [main] index.IndexCollection (IndexCollection.java:494) - Total 190,657 documents indexed in 00:01:16\n"
          ]
        }
      ]
    },
    {
      "cell_type": "code",
      "source": [
        "!pip install faiss-cpu --no-cache"
      ],
      "metadata": {
        "colab": {
          "base_uri": "https://localhost:8080/"
        },
        "id": "sI5JEOM09nNR",
        "outputId": "49e97a7a-c343-4fd1-f235-9248d75c23c8"
      },
      "execution_count": 10,
      "outputs": [
        {
          "output_type": "stream",
          "name": "stdout",
          "text": [
            "Looking in indexes: https://pypi.org/simple, https://us-python.pkg.dev/colab-wheels/public/simple/\n",
            "Collecting faiss-cpu\n",
            "  Downloading faiss_cpu-1.7.2-cp37-cp37m-manylinux_2_17_x86_64.manylinux2014_x86_64.whl (8.6 MB)\n",
            "\u001b[K     |████████████████████████████████| 8.6 MB 5.0 MB/s \n",
            "\u001b[?25hInstalling collected packages: faiss-cpu\n",
            "Successfully installed faiss-cpu-1.7.2\n"
          ]
        }
      ]
    },
    {
      "cell_type": "code",
      "source": [
        "from pyserini.search.lucene import LuceneSearcher\n",
        "import time\n",
        "start = time.perf_counter()\n",
        "\n",
        "searcher = LuceneSearcher('/content/indexes/documents_json')\n",
        "hits = searcher.search('cancer')\n",
        "\n",
        "for i in range(len(hits)):\n",
        "    print(f'{i+1:2} {hits[i].docid:4} {hits[i].score:.5f}')\n",
        "    print('{\\n  \"id\" : \"'+hits[i].docid+'\",\\n  \"contents\" : \"'+hits[i].contents+'\"\\n}')\n",
        "end = time.perf_counter()\n",
        "print(f\"Inverted Index Search finished in {end - start:0.4f} seconds\")"
      ],
      "metadata": {
        "colab": {
          "base_uri": "https://localhost:8080/"
        },
        "id": "HXYpq3jASn5M",
        "outputId": "ddf1d72c-368c-4e3e-9493-c1a3f89e592f"
      },
      "execution_count": 21,
      "outputs": [
        {
          "output_type": "stream",
          "name": "stdout",
          "text": [
            " 1 24747090 2.50920\n",
            "{\n",
            "  \"id\" : \"24747090\",\n",
            "  \"contents\" : \"We examine the role of body mass index in the assessment of prostate cancer risk . A total of 3,258 participants who underwent biopsy ( including 1,902 men with a diagnosis of prostate cancer ) were identified from the Selenium and Vitamin E Cancer Prevention Trial . The associations of body mass index with prostate cancer and high grade prostate cancer were examined using logistic regression , adjusting for age , race , body mass index adjusted prostate specific antigen , digital rectal examination , family history of prostate cancer , biopsy history , prostate specific antigen velocity , and time between study entry and the last biopsy . The prediction models were compared with our previously developed body mass index adjusted Prostate Cancer Prevention Trial prostate cancer risk calculator . Of the study subjects 49.1 % were overweight and 29.3 % were obese . After adjustment , among men without a known family history of prostate cancer , increased body mass index was not associated with a higher risk of prostate cancer ( per one-unit increase in logBMI OR 0.83 , p = 0.54 ) but was significantly associated with a higher risk of high grade prostate cancer ( ieGleason score 7 or greater prostate cancer ) ( OR 2.31 , p = 0.03 ) . For men with a known family history of prostate cancer the risks of prostate cancer and high grade prostate cancer increased rapidly as body mass index increased ( prostate cancer OR 3.73 , p = 0.02 ; high grade prostate cancer OR 7.95 , p = 0.002 ) . The previously developed risk calculator generally underestimated the risks of prostate cancer and high grade prostate cancer . Body mass index provided independently predictive information regarding the risks of prostate cancer and high grade prostate cancer after adjusting for other risk factors . Body mass index , especially in men with a known family history of prostate cancer , should be considered for inclusion in any clinical assessment of prostate cancer risk and recommendations regarding prostate biopsy .\"\n",
            "}\n",
            " 2 24645632 2.50460\n",
            "{\n",
            "  \"id\" : \"24645632\",\n",
            "  \"contents\" : \"Skin cancer survivors experience an increased risk for subsequent malignancies but the associated risk factors are poorly understood . This study examined the risk of a new primary cancer following an initial skin cancer and assessed risk factors associated with second primary cancers . All invasive cutaneous malignant melanomas ( CMM , N = 28 069 ) and squamous cell carcinomas ( SCC , N = 24 620 ) diagnosed in Norway during 1955-2008 were included . Rates of new primary cancers in skin cancer survivors were compared to rates of primary malignancies in the general population using standardized incidence ratios ( SIR ) . Discrete-time logistic regression models were applied to individual-level data to estimate cancer risk among those with and without a prior skin cancer , accounting for residential region , education , income , parenthood , marital status and parental cancer status , using a 20 % random sample of the entire Norwegian population as reference . Further analyses of the skin cancer cohort were undertaken to determine risk factors related to subsequent cancers . During follow-up , 9608 new primary cancers occurred after an initial skin cancer . SIR analyses showed 50 % and 90 % increased risks for any cancer after CMM and SCC , respectively ( p < 0.01 ) . The logistic regression model suggested even stronger increase after SCC ( 130 % ) . The highest risk was seen for subsequent skin cancers , but several non-skin cancers were also diagnosed in excess : oral , lung , colon , breast , prostate , thyroid , leukemia , lymphoma and central nervous system . Factors that were associated with increased risk of subsequent cancers include male sex , older age , lower residential latitude , being married and low education and income . Parental cancer did not increase the risk of a subsequent cancer after SCC , but was a significant predictor among younger CMM survivors . Our results provide information on shared environmental and genetic risk factors for first and later cancers and may help to identify individuals at high risk for subsequent cancers , which will be important as skin cancer incidence continues to rise .\"\n",
            "}\n",
            " 3 24569437 2.49760\n",
            "{\n",
            "  \"id\" : \"24569437\",\n",
            "  \"contents\" : \"NSABP P-1 provides an opportunity to examine the association of behavioral factors with prospectively monitored cancer incidence and interactions with tamoxifen . From 1992 to 1997 , 13,388 women with estimated 5-year breast cancer risk greater than 1.66 % or a history of lobular carcinoma in situ ( 87 % younger than age 65 ; 67 % postmenopausal ) were randomly assigned to tamoxifen versus placebo . Invasive breast cancer , lung cancer , colon cancer , and endometrial cancer were analyzed with Cox regression . Predictors were baseline cigarette smoking , leisure-time physical activity , alcohol consumption , and established risk factors . At median 7 years follow-up , we observed 395 , 66 , 35 , and 74 breast cancer , lung cancer , colon cancer , and endometrial cancer , respectively . Women who had smoked were at increased risk of breast cancer ( P = 0.007 ; HR = 1.3 for 15-35 years smoking , HR = 1.6 for 35 years ) , lung cancer ( P < 0.001 ; HR = 3.9 for 15-35 years , HR = 18.4 for 35 years ) , and colon cancer ( P < 0.001 ; HR = 5.1 for 35 years ) versus never-smokers . Low activity predicted increased breast cancer risk only among women assigned to placebo ( P = 0.021 activity main effect , P = 0.013 activity-treatment interaction ; HR = 1.4 for the placebo group ) and endometrial cancer among all women ( P = 0.026 , HR = 1.7 ) . Moderate alcohol ( > 0-1 drink/day ) was associated with decreased risk of colon cancer ( P = 0.019 ; HR = 0.35 ) versus no alcohol . There were no other significant associations between these behaviors and cancer risk . Among women with elevated risk of breast cancer , smoking has an even greater impact on breast cancer risk than observed in past studies in the general population . Women who smoke or are inactive should be informed of the increased risk of multiple types of cancer .\"\n",
            "}\n",
            " 4 20859673 2.49170\n",
            "{\n",
            "  \"id\" : \"20859673\",\n",
            "  \"contents\" : \"To assess the association between dietary acrylamide intake and the risk of cancer among male smokers . The study consisted of 27,111 male smokers , aged 50-69 years , without history of cancer . They were participants of the Alpha-Tocopherol , Beta-Carotene Cancer Prevention ( ATBC ) Study in Finland . The men completed a validated dietary questionnaire and a questionnaire on general background characteristics ( including smoking habits ) at baseline . Incident cases of cancer were identified through the national Finnish Cancer Registry . During an average 10.2 year follow-up , 1,703 lung cancers , 799 prostate cancers , 365 urothelial cancers , 316 colorectal cancers , 224 stomach cancers , 192 pancreatic cancers , 184 renal cell cancers , and 175 lymphomas were diagnosed . Dietary acrylamide intake was positively associated with the risk of lung cancer ; relative risk ( RR ) in the highest versus the lowest quintile in the multivariable-adjusted model was 1.18 ( ( 95 % confidence interval ( CI ) 1.01-1 .38 , p for trend 0.11 ) . Other cancers were not associated with acrylamide intake . High acrylamide intake is associated with increased risk of lung cancer but not with other cancers in male smokers .\"\n",
            "}\n",
            " 5 7752269 2.48950\n",
            "{\n",
            "  \"id\" : \"7752269\",\n",
            "  \"contents\" : \"Tamoxifen is being increasingly used for the treatment of breast cancer and is undergoing study for the primary prevention of breast cancer . However , concerns have been raised that the drug may increase the incidence of new primary malignancies , such as endometrial , liver , and colorectal cancers . Our goal was to assess the carcinogenic risks associated with long-term use of tamoxifen in women with early stage breast cancer . The incidence of new primary cancers among 2729 women participants of the Stockholm Trial was determined at a median follow-up of 9 years . In this trial , after primary surgery , postmenopausal patients aged less than 71 years with unilateral invasive breast cancer were randomly allocated to receive either 2 years of adjuvant tamoxifen ( 40 mg daily ) or no adjuvant endocrine therapy . Information on second cancers was obtained by retrospective linkage to the Swedish Cancer Registry . To increase statistical power , a joint analysis of the incidence of endometrial and gastrointestinal cancers was performed in the following three major studies in Scandinavia evaluating adjuvant tamoxifen therapy : the Stockholm Trial , the Danish Breast Cancer Group Trial , and the South-Swedish Trial . These studies included a total of 4914 patients with a median follow-up of 8-9 years . All P values were calculated from two-tailed tests of statistical significance . In the Stockholm Trial , there was a statistically significant ( P = .008 ) reduction in the incidence of second primary cancers in the contralateral breast among the tamoxifen-treated patients . However , there was a nearly sixfold increase in endometrial cancers ( P < .001 ) and a threefold increase in gastrointestinal cancers in the tamoxifen-treated patients . The results of the joint studies showed a statistically significant increase in endometrial cancers among the tamoxifen-treated patients ( relative risk  RR  = 4.1 ; 95 % confidence interval  CI  = 1.9-8 .9 ) . There was also an excess of gastrointestinal cancers associated with tamoxifen . Most of this excess involved colorectal cancers ( RR = 1.9 ; 95 % CI = 1.1-3 .3 ) and stomach cancer ( RR = 3.2 ; 95 % CI = 0.9-11 .7 ) . There was no substantial increase in any other type of gastrointestinal cancer ( e.g. , liver cancer ) among the tamoxifen-treated patients . The endometrium and gastrointestinal organs may be target sites for tamoxifen-induced carcinogenesis in humans . The increased incidence of colorectal and stomach cancers reported here should be regarded as tentative until supported by long-term data from a larger number of tamoxifen trials . Also , appropriate surveillance of cancer incidence is warranted for the protection of participants enrolled in current tamoxifen chemoprevention trials .\"\n",
            "}\n",
            " 6 25017249 2.48910\n",
            "{\n",
            "  \"id\" : \"25017249\",\n",
            "  \"contents\" : \"The World Cancer Research Fund ( WCRF ) and the American Institute for Cancer Research ( AICR ) published eight recommendations for cancer prevention , but they are not targeted at prostate cancer prevention . We investigated whether adherence to the WCRF/AICR recommendations and a prostate cancer dietary index is associated with prostate cancer risk . We conducted a nested case-control study of 1,806 prostate-specific antigen ( PSA ) - detected prostate cancer cases and 12,005 controls in the ProtecT trial . We developed a prostate cancer dietary index by incorporating three dietary factors most strongly associated with prostate cancer . Scores were computed to quantify adherence to the WCRF/AICR recommendations and the prostate cancer dietary index separately . The prostate cancer dietary index score was associated with decreased risk of prostate cancer  OR per 1 score increment : 0.91 ; 95 % confidence interval ( CI ) : 0.84-0 .99 ; Ptrend = 0.04  but the WCRF/AICR index score was not ( OR : 0.99 ; 95 % CI : 0.94-1 .05 ; Ptrend = 0.71 ) . There was no heterogeneity in association by prostate cancer stage ( P = 0.81 ) or grade ( P = 0.61 ) . Greater adherence to recommendations to increase plant foods ( OR per 0.25 index score increment : 0.94 ; 95 % CI : 0.89-0 .99 ; Ptrend = 0.02 ) and tomato products ( OR adherence vs. nonadherence : 0.82 ; 95 % CI : 0.70-0 .97 ; P = 0.02 ) was inversely associated with overall prostate cancer risk . Adherence to the prostate cancer-specific dietary recommendations was associated with decreased risk of prostate cancer . High intake of plant foods and tomato products in particular may help protect against prostate cancer . Meeting the WCRF/AICR recommendations alone is insufficient for prostate cancer prevention . Additional dietary recommendations should be developed .\"\n",
            "}\n",
            " 7 23448100 2.48700\n",
            "{\n",
            "  \"id\" : \"23448100\",\n",
            "  \"contents\" : \"The Michigan Prevention Research Center , the University of Michigan Schools of Nursing , Public Health , and Medicine , and the Michigan Department of Community Health propose a multidisciplinary academic-clinical practice three-year project to increase breast cancer screening among young breast cancer survivors and their cancer-free female relatives at greatest risk for breast cancer . The study has three specific aims : 1 ) Identify and survey 3,000 young breast cancer survivors ( diagnosed at 20-45 years old ) regarding their breast cancer screening utilization . 2 ) Identify and survey survivors high-risk relatives regarding their breast cancer screening utilization ., 3 ) Test two versions ( Targeted vs. Enhanced Tailored ) of an intervention to increase breast cancer screening among survivors and relatives . Following approval by human subjects review boards , 3,000 young breast cancer survivors will be identified through the Michigan Cancer Registry and mailed an invitation letter and a baseline survey . The baseline survey will obtain information on the survivors : a ) current breast cancer screening status and use of genetic counseling ; b ) perceived barriers and facilitators to screening ; c ) family health history ., Based on the family history information provided by survivors , we will identify up to two high-risk relatives per survivor . Young breast cancer survivors will be mailed consent forms and baseline surveys to distribute to their selected high-risk relatives . Relatives baseline survey will obtain information on their : a ) current breast cancer screening status and use of genetic counseling ; and b ) perceived barriers and facilitators to screening ., Young breast cancer survivors and high-risk relatives will be randomized as a family unit to receive two versions of an intervention aiming to increase breast cancer screening and use of cancer genetic services . A follow-up survey will be mailed 9 months after the intervention to survivors and high-risk relatives to evaluate the efficacy of each intervention version on : a ) use of breast cancer screening and genetic counseling ; b ) perceived barriers and facilitators to screening ; c ) self-efficacy in utilizing cancer genetic and screening services ; d ) family support related to screening ; e ) knowledge of breast cancer genetics ; and f ) satisfaction with the intervention . The study will enhance efforts of the state of Michigan surrounding cancer prevention , control , and public health genomics .\"\n",
            "}\n",
            " 8 10214599 2.48430\n",
            "{\n",
            "  \"id\" : \"10214599\",\n",
            "  \"contents\" : \"To evaluate the effectiveness of a video intervention in decreasing cancer fatalism , increasing knowledge of colorectal cancer , and increasing participation in fecal-occult blood testing ( FOBT ) . Repeated measures , pretest/post-test . Senior citizen centers in a rural southern state . Individuals were selected and assigned to the study group based on the center they attended . Centers were selected and assigned randomly to an intervention ( n = 42 ) or control ( n = 28 ) group . The age of the participants ranged from 52-92 years ( X = 75 ) . Pretest measures included the Powe Fatalism inventory , the Colorectal Cancer Knowledge Questionnaire , and the Demographic Data Questionnaire . The intervention group viewed the Medical University of South Carolina s video Telling the Story ... To Live is God s Will , and the control group viewed the American Cancer Society ( ACS ) video Colorectal Cancer : The Cancer No One Talks About ., Hemoccult II kits were distributed to both groups at no cost . Post-test data were collected using the Powe Fatalism Inventory and the Colorectal Cancer Knowledge Questionnaire . Cancer fatalism , knowledge of colorectal cancer , and participation in FOBT . People who viewed the intervention video had a greater decrease in cancer fatalism scores and a greater increase in knowledge of colorectal cancer scores than the control group . Both groups had greater than 60 % participation in FOBT . Telling the Story ... To Live is God s Will is an effective , self-contained , cost-effective intervention to decrease cancer fatalism and increase knowledge of colorectal cancer ., The video was as effective as the ACS video on colorectal cancer in increasing participation in FOBT among rural elders . But , because Telling the Story ... To Live is God s Will also decreases cancer fatalism and increases knowledge , the potential exists for the increased screening behaviors to be maintained over time ., Showing the video in waiting areas of community health centers to facilitate the discussion of colorectal cancer and cancer screening with the healthcare professional is a possibility . Nursing students may benefit from using the video as a model for the integration of beliefs and attitudes in developing culturally appropriate , community-based interventions . More research is needed to determine if the positive outcomes of the intervention ( i.e. , decreased cancer fatalism , increased knowledge , increased participation in colorectal cancer screening ) can be maintained over time .\"\n",
            "}\n",
            " 9 23694983 2.48430\n",
            "{\n",
            "  \"id\" : \"23694983\",\n",
            "  \"contents\" : \"Eastern Africa has the highest incidence and mortality rates from cervical cancer worldwide . It is important to describe the differences among women and their perceived risk of cervical cancer to determine target groups to increase cervical cancer screening . In this cross-sectional study , we surveyed women seeking reproductive health services in Kisumu , Kenya to assess their perceived risk of cervical cancer and risk factors influencing cervical cancer screening uptake . statistics and t tests were used to determine significant factors , which were incorporated into a logistic model to determine factors independently associated with cervical cancer risk perception . Whereas 91 % of the surveyed women had heard of cancer , only 29 % of the 388 surveyed women had previously heard of cervical cancer . Most had received their information from health care workers . Few women ( 6 % ) had ever been screened for cervical cancer and cited barriers such as fear , time , and lack of knowledge about cervical cancer . Nearly all previously screened women ( 22/24  92 %  ) believed that cervical cancer was curable if detected early and that screening should be conducted annually ( 86 % ) . Most women ( 254/388  65 %  ) felt they were at risk for cervical cancer . Women with perceived risk of cervical cancer were older ( odds ratio  OR  , 1.06 ; 95 % confidence interval  CI  , 1.02-1 .10 ) , reported a history of marriage ( OR , 2.08 ; CI , 1.00-4 .30 ) , were less likely to feel adequately informed about cervical cancer by health care providers ( OR , 0.76 ; CI , 0.18-0 .83 ) , and more likely to intend to have cervical cancer screening in the future ( OR , 10.59 ; CI , 3.96-28 .30 ) . Only 5 % of the women reported that they would not be willing to undergo screening regardless of cost . Cervical cancer is a major health burden for women in sub-Saharan Africa , yet only one third of the women had ever heard of cervical cancer in Kisumu , Kenya . Understanding factors associated with women s perceived risk of cervical cancer could guide future educational and clinical interventions to increase cervical cancer screening .,\"\n",
            "}\n",
            "10 25008853 2.47790\n",
            "{\n",
            "  \"id\" : \"25008853\",\n",
            "  \"contents\" : \"Recent posttrial analysis of a completed randomized trial found an increased risk of prostate cancer among healthy men taking high-dose vitamin E supplements . Trials that examined the effect of vitamin C supplements on cancer risk are few . We examined whether vitamin E or vitamin C supplementation affects the risk of cancer events during posttrial follow-up of the Physicians Health Study II ., Beginning in 1997 , a total of 14,641 US male physicians aged 50 y were randomly assigned to receive 400 IU of vitamin E every other day , 500 mg of vitamin C daily , or their respective placebos . The vitamin E and vitamin C treatment ended in 2007 , and observational follow-up continued through June 2011 . This study included an additional 356 cases of incident prostate cancer and 771 total cancers that developed during a mean ( maximum ) of 2.8 ( 3.8 ) y of posttrial observation . During an overall mean of 10.3 ( 13.8 ) y , there were a total of 1373 incident prostate cancers and 2669 total cancers documented . In comparison with placebo , vitamin E supplementation had no effect on the incidence of prostate cancer ( HR : 0.99 ; 95 % CI : 0.89 , 1.10 ) or total cancers ( HR : 1.02 ; 95 % CI : 0.95 , 1.10 ) . There was also no effect of vitamin C supplementation on total cancers ( HR : 1.02 ; 95 % CI : 0.94 , 1.10 ) or incident prostate cancer ( HR : 1.03 ; 95 % CI : 0.93 , 1.15 ) . Neither vitamin E nor vitamin C supplementation had effects on other site-specific cancers overall . Stratification by known cancer risk factors , history of cancer , other randomized treatment , and follow-up time showed no significant interactions . In this large-scale randomized trial in men , vitamin E and C supplementation had no immediate or long-term effects on the risk of total cancers , prostate cancer , or other site-specific cancers .\"\n",
            "}\n",
            "Inverted Index Search finished in 0.0502 seconds\n"
          ]
        }
      ]
    }
  ]
}