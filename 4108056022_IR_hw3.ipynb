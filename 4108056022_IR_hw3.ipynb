{
  "nbformat": 4,
  "nbformat_minor": 0,
  "metadata": {
    "colab": {
      "provenance": [],
      "collapsed_sections": [],
      "mount_file_id": "1RrJtwu1edWE_GrH3Bgvjb8o0VUe_4j2I",
      "authorship_tag": "ABX9TyNiGnGnKJlWA0Dk3ypzlZL2",
      "include_colab_link": true
    },
    "kernelspec": {
      "name": "python3",
      "display_name": "Python 3"
    },
    "language_info": {
      "name": "python"
    }
  },
  "cells": [
    {
      "cell_type": "markdown",
      "metadata": {
        "id": "view-in-github",
        "colab_type": "text"
      },
      "source": [
        "<a href=\"https://colab.research.google.com/github/steveyen127/IR_hw3/blob/main/4108056022_IR_hw3.ipynb\" target=\"_parent\"><img src=\"https://colab.research.google.com/assets/colab-badge.svg\" alt=\"Open In Colab\"/></a>"
      ]
    },
    {
      "cell_type": "code",
      "source": [
        "!pip install pyserini"
      ],
      "metadata": {
        "colab": {
          "base_uri": "https://localhost:8080/",
          "height": 1000
        },
        "id": "FUN9GumnTGQe",
        "outputId": "a7f55839-24a3-47ac-c46e-32a86c99ec8d"
      },
      "execution_count": 34,
      "outputs": [
        {
          "output_type": "stream",
          "name": "stdout",
          "text": [
            "Looking in indexes: https://pypi.org/simple, https://us-python.pkg.dev/colab-wheels/public/simple/\n",
            "Requirement already satisfied: pyserini in /usr/local/lib/python3.7/dist-packages (0.18.0)\n",
            "Requirement already satisfied: spacy>=3.2.1 in /usr/local/lib/python3.7/dist-packages (from pyserini) (3.4.1)\n",
            "Requirement already satisfied: tqdm in /usr/local/lib/python3.7/dist-packages (from pyserini) (4.64.1)\n",
            "Requirement already satisfied: scikit-learn>=0.22.1 in /usr/local/lib/python3.7/dist-packages (from pyserini) (1.0.2)\n",
            "Requirement already satisfied: onnxruntime>=1.8.1 in /usr/local/lib/python3.7/dist-packages (from pyserini) (1.12.1)\n",
            "Requirement already satisfied: numpy>=1.18.1 in /usr/local/lib/python3.7/dist-packages (from pyserini) (1.21.6)\n",
            "Requirement already satisfied: transformers>=4.6.0 in /usr/local/lib/python3.7/dist-packages (from pyserini) (4.23.1)\n",
            "Requirement already satisfied: pyjnius>=1.4.0 in /usr/local/lib/python3.7/dist-packages (from pyserini) (1.4.2)\n",
            "Requirement already satisfied: Cython>=0.29.21 in /usr/local/lib/python3.7/dist-packages (from pyserini) (0.29.32)\n",
            "Requirement already satisfied: scipy>=1.4.1 in /usr/local/lib/python3.7/dist-packages (from pyserini) (1.7.3)\n",
            "Requirement already satisfied: pandas>=1.1.5 in /usr/local/lib/python3.7/dist-packages (from pyserini) (1.3.5)\n",
            "Requirement already satisfied: lightgbm>=3.3.2 in /usr/local/lib/python3.7/dist-packages (from pyserini) (3.3.3)\n",
            "Requirement already satisfied: sentencepiece>=0.1.95 in /usr/local/lib/python3.7/dist-packages (from pyserini) (0.1.97)\n",
            "Requirement already satisfied: nmslib>=2.1.1 in /usr/local/lib/python3.7/dist-packages (from pyserini) (2.1.1)\n",
            "Requirement already satisfied: wheel in /usr/local/lib/python3.7/dist-packages (from lightgbm>=3.3.2->pyserini) (0.37.1)\n",
            "Requirement already satisfied: pybind11<2.6.2 in /usr/local/lib/python3.7/dist-packages (from nmslib>=2.1.1->pyserini) (2.6.1)\n",
            "Requirement already satisfied: psutil in /usr/local/lib/python3.7/dist-packages (from nmslib>=2.1.1->pyserini) (5.4.8)\n",
            "Requirement already satisfied: sympy in /usr/local/lib/python3.7/dist-packages (from onnxruntime>=1.8.1->pyserini) (1.7.1)\n",
            "Requirement already satisfied: protobuf in /usr/local/lib/python3.7/dist-packages (from onnxruntime>=1.8.1->pyserini) (3.17.3)\n",
            "Requirement already satisfied: flatbuffers in /usr/local/lib/python3.7/dist-packages (from onnxruntime>=1.8.1->pyserini) (1.12)\n",
            "Requirement already satisfied: packaging in /usr/local/lib/python3.7/dist-packages (from onnxruntime>=1.8.1->pyserini) (21.3)\n",
            "Requirement already satisfied: coloredlogs in /usr/local/lib/python3.7/dist-packages (from onnxruntime>=1.8.1->pyserini) (15.0.1)\n",
            "Requirement already satisfied: python-dateutil>=2.7.3 in /usr/local/lib/python3.7/dist-packages (from pandas>=1.1.5->pyserini) (2.8.2)\n",
            "Requirement already satisfied: pytz>=2017.3 in /usr/local/lib/python3.7/dist-packages (from pandas>=1.1.5->pyserini) (2022.4)\n",
            "Requirement already satisfied: six>=1.7.0 in /usr/local/lib/python3.7/dist-packages (from pyjnius>=1.4.0->pyserini) (1.15.0)\n",
            "Requirement already satisfied: joblib>=0.11 in /usr/local/lib/python3.7/dist-packages (from scikit-learn>=0.22.1->pyserini) (1.2.0)\n",
            "Requirement already satisfied: threadpoolctl>=2.0.0 in /usr/local/lib/python3.7/dist-packages (from scikit-learn>=0.22.1->pyserini) (3.1.0)\n",
            "Requirement already satisfied: cymem<2.1.0,>=2.0.2 in /usr/local/lib/python3.7/dist-packages (from spacy>=3.2.1->pyserini) (2.0.6)\n",
            "Requirement already satisfied: typing-extensions<4.2.0,>=3.7.4 in /usr/local/lib/python3.7/dist-packages (from spacy>=3.2.1->pyserini) (4.1.1)\n",
            "Requirement already satisfied: pydantic!=1.8,!=1.8.1,<1.10.0,>=1.7.4 in /usr/local/lib/python3.7/dist-packages (from spacy>=3.2.1->pyserini) (1.9.2)\n",
            "Requirement already satisfied: langcodes<4.0.0,>=3.2.0 in /usr/local/lib/python3.7/dist-packages (from spacy>=3.2.1->pyserini) (3.3.0)\n",
            "Requirement already satisfied: srsly<3.0.0,>=2.4.3 in /usr/local/lib/python3.7/dist-packages (from spacy>=3.2.1->pyserini) (2.4.4)\n",
            "Requirement already satisfied: pathy>=0.3.5 in /usr/local/lib/python3.7/dist-packages (from spacy>=3.2.1->pyserini) (0.6.2)\n",
            "Requirement already satisfied: setuptools in /usr/local/lib/python3.7/dist-packages (from spacy>=3.2.1->pyserini) (57.4.0)\n",
            "Requirement already satisfied: typer<0.5.0,>=0.3.0 in /usr/local/lib/python3.7/dist-packages (from spacy>=3.2.1->pyserini) (0.4.2)\n",
            "Requirement already satisfied: spacy-loggers<2.0.0,>=1.0.0 in /usr/local/lib/python3.7/dist-packages (from spacy>=3.2.1->pyserini) (1.0.3)\n",
            "Requirement already satisfied: preshed<3.1.0,>=3.0.2 in /usr/local/lib/python3.7/dist-packages (from spacy>=3.2.1->pyserini) (3.0.7)\n",
            "Requirement already satisfied: requests<3.0.0,>=2.13.0 in /usr/local/lib/python3.7/dist-packages (from spacy>=3.2.1->pyserini) (2.23.0)\n",
            "Requirement already satisfied: jinja2 in /usr/local/lib/python3.7/dist-packages (from spacy>=3.2.1->pyserini) (2.11.3)\n",
            "Requirement already satisfied: murmurhash<1.1.0,>=0.28.0 in /usr/local/lib/python3.7/dist-packages (from spacy>=3.2.1->pyserini) (1.0.8)\n",
            "Requirement already satisfied: catalogue<2.1.0,>=2.0.6 in /usr/local/lib/python3.7/dist-packages (from spacy>=3.2.1->pyserini) (2.0.8)\n",
            "Requirement already satisfied: wasabi<1.1.0,>=0.9.1 in /usr/local/lib/python3.7/dist-packages (from spacy>=3.2.1->pyserini) (0.10.1)\n",
            "Requirement already satisfied: spacy-legacy<3.1.0,>=3.0.9 in /usr/local/lib/python3.7/dist-packages (from spacy>=3.2.1->pyserini) (3.0.10)\n",
            "Requirement already satisfied: thinc<8.2.0,>=8.1.0 in /usr/local/lib/python3.7/dist-packages (from spacy>=3.2.1->pyserini) (8.1.3)\n",
            "Requirement already satisfied: zipp>=0.5 in /usr/local/lib/python3.7/dist-packages (from catalogue<2.1.0,>=2.0.6->spacy>=3.2.1->pyserini) (3.9.0)\n",
            "Requirement already satisfied: pyparsing!=3.0.5,>=2.0.2 in /usr/local/lib/python3.7/dist-packages (from packaging->onnxruntime>=1.8.1->pyserini) (3.0.9)\n",
            "Requirement already satisfied: smart-open<6.0.0,>=5.2.1 in /usr/local/lib/python3.7/dist-packages (from pathy>=0.3.5->spacy>=3.2.1->pyserini) (5.2.1)\n",
            "Requirement already satisfied: certifi>=2017.4.17 in /usr/local/lib/python3.7/dist-packages (from requests<3.0.0,>=2.13.0->spacy>=3.2.1->pyserini) (2022.9.24)\n",
            "Requirement already satisfied: urllib3!=1.25.0,!=1.25.1,<1.26,>=1.21.1 in /usr/local/lib/python3.7/dist-packages (from requests<3.0.0,>=2.13.0->spacy>=3.2.1->pyserini) (1.24.3)\n",
            "Requirement already satisfied: idna<3,>=2.5 in /usr/local/lib/python3.7/dist-packages (from requests<3.0.0,>=2.13.0->spacy>=3.2.1->pyserini) (2.10)\n",
            "Requirement already satisfied: chardet<4,>=3.0.2 in /usr/local/lib/python3.7/dist-packages (from requests<3.0.0,>=2.13.0->spacy>=3.2.1->pyserini) (3.0.4)\n",
            "Requirement already satisfied: blis<0.8.0,>=0.7.8 in /usr/local/lib/python3.7/dist-packages (from thinc<8.2.0,>=8.1.0->spacy>=3.2.1->pyserini) (0.7.8)\n",
            "Requirement already satisfied: confection<1.0.0,>=0.0.1 in /usr/local/lib/python3.7/dist-packages (from thinc<8.2.0,>=8.1.0->spacy>=3.2.1->pyserini) (0.0.3)\n",
            "Requirement already satisfied: filelock in /usr/local/lib/python3.7/dist-packages (from transformers>=4.6.0->pyserini) (3.8.0)\n",
            "Requirement already satisfied: tokenizers!=0.11.3,<0.14,>=0.11.1 in /usr/local/lib/python3.7/dist-packages (from transformers>=4.6.0->pyserini) (0.13.1)\n",
            "Requirement already satisfied: huggingface-hub<1.0,>=0.10.0 in /usr/local/lib/python3.7/dist-packages (from transformers>=4.6.0->pyserini) (0.10.1)\n",
            "Requirement already satisfied: pyyaml>=5.1 in /usr/local/lib/python3.7/dist-packages (from transformers>=4.6.0->pyserini) (6.0)\n",
            "Requirement already satisfied: importlib-metadata in /usr/local/lib/python3.7/dist-packages (from transformers>=4.6.0->pyserini) (5.0.0)\n",
            "Requirement already satisfied: regex!=2019.12.17 in /usr/local/lib/python3.7/dist-packages (from transformers>=4.6.0->pyserini) (2022.6.2)\n",
            "Requirement already satisfied: click<9.0.0,>=7.1.1 in /usr/local/lib/python3.7/dist-packages (from typer<0.5.0,>=0.3.0->spacy>=3.2.1->pyserini) (7.1.2)\n",
            "Requirement already satisfied: humanfriendly>=9.1 in /usr/local/lib/python3.7/dist-packages (from coloredlogs->onnxruntime>=1.8.1->pyserini) (10.0)\n",
            "Requirement already satisfied: MarkupSafe>=0.23 in /usr/local/lib/python3.7/dist-packages (from jinja2->spacy>=3.2.1->pyserini) (2.0.1)\n",
            "Requirement already satisfied: mpmath>=0.19 in /usr/local/lib/python3.7/dist-packages (from sympy->onnxruntime>=1.8.1->pyserini) (1.2.1)\n",
            "Reading package lists... Done\n",
            "Building dependency tree       \n",
            "Reading state information... Done\n",
            "The following package was automatically installed and is no longer required:\n",
            "  libnvidia-common-460\n",
            "Use 'apt autoremove' to remove it.\n",
            "The following additional packages will be installed:\n",
            "  libomp5\n",
            "Suggested packages:\n",
            "  libomp-doc\n",
            "The following NEW packages will be installed:\n",
            "  libomp-dev libomp5\n",
            "0 upgraded, 2 newly installed, 0 to remove and 12 not upgraded.\n",
            "Need to get 239 kB of archives.\n",
            "After this operation, 804 kB of additional disk space will be used.\n",
            "Get:1 http://archive.ubuntu.com/ubuntu bionic/universe amd64 libomp5 amd64 5.0.1-1 [234 kB]\n",
            "Get:2 http://archive.ubuntu.com/ubuntu bionic/universe amd64 libomp-dev amd64 5.0.1-1 [5,088 B]\n",
            "Fetched 239 kB in 1s (427 kB/s)\n",
            "Selecting previously unselected package libomp5:amd64.\n",
            "(Reading database ... 123934 files and directories currently installed.)\n",
            "Preparing to unpack .../libomp5_5.0.1-1_amd64.deb ...\n",
            "Unpacking libomp5:amd64 (5.0.1-1) ...\n",
            "Selecting previously unselected package libomp-dev.\n",
            "Preparing to unpack .../libomp-dev_5.0.1-1_amd64.deb ...\n",
            "Unpacking libomp-dev (5.0.1-1) ...\n",
            "Setting up libomp5:amd64 (5.0.1-1) ...\n",
            "Setting up libomp-dev (5.0.1-1) ...\n",
            "Processing triggers for libc-bin (2.27-3ubuntu1.6) ...\n",
            "Looking in indexes: https://pypi.org/simple, https://us-python.pkg.dev/colab-wheels/public/simple/\n",
            "Collecting faiss\n",
            "  Downloading faiss-1.5.3-cp37-cp37m-manylinux1_x86_64.whl (4.7 MB)\n",
            "\u001b[K     |████████████████████████████████| 4.7 MB 7.4 MB/s \n",
            "\u001b[?25hCollecting faiss-gpu\n",
            "  Downloading faiss_gpu-1.7.2-cp37-cp37m-manylinux_2_17_x86_64.manylinux2014_x86_64.whl (85.5 MB)\n",
            "\u001b[K     |████████████████████████████████| 85.5 MB 73 kB/s \n",
            "\u001b[?25hRequirement already satisfied: numpy in /usr/local/lib/python3.7/dist-packages (from faiss) (1.21.6)\n",
            "Installing collected packages: faiss-gpu, faiss\n",
            "Successfully installed faiss-1.5.3 faiss-gpu-1.7.2\n"
          ]
        },
        {
          "output_type": "error",
          "ename": "AttributeError",
          "evalue": "ignored",
          "traceback": [
            "\u001b[0;31m---------------------------------------------------------------------------\u001b[0m",
            "\u001b[0;31mAttributeError\u001b[0m                            Traceback (most recent call last)",
            "\u001b[0;32m<ipython-input-34-2657e9efd33e>\u001b[0m in \u001b[0;36m<module>\u001b[0;34m\u001b[0m\n\u001b[1;32m      2\u001b[0m \u001b[0mget_ipython\u001b[0m\u001b[0;34m(\u001b[0m\u001b[0;34m)\u001b[0m\u001b[0;34m.\u001b[0m\u001b[0msystem\u001b[0m\u001b[0;34m(\u001b[0m\u001b[0;34m'apt install libomp-dev'\u001b[0m\u001b[0;34m)\u001b[0m\u001b[0;34m\u001b[0m\u001b[0;34m\u001b[0m\u001b[0m\n\u001b[1;32m      3\u001b[0m \u001b[0mget_ipython\u001b[0m\u001b[0;34m(\u001b[0m\u001b[0;34m)\u001b[0m\u001b[0;34m.\u001b[0m\u001b[0msystem\u001b[0m\u001b[0;34m(\u001b[0m\u001b[0;34m'python -m pip install --upgrade faiss faiss-gpu'\u001b[0m\u001b[0;34m)\u001b[0m\u001b[0;34m\u001b[0m\u001b[0;34m\u001b[0m\u001b[0m\n\u001b[0;32m----> 4\u001b[0;31m \u001b[0;32mimport\u001b[0m \u001b[0mfaiss\u001b[0m\u001b[0;34m\u001b[0m\u001b[0;34m\u001b[0m\u001b[0m\n\u001b[0m",
            "\u001b[0;32m/usr/local/lib/python3.7/dist-packages/faiss/__init__.py\u001b[0m in \u001b[0;36m<module>\u001b[0;34m\u001b[0m\n\u001b[1;32m     17\u001b[0m \u001b[0;34m\u001b[0m\u001b[0m\n\u001b[1;32m     18\u001b[0m \u001b[0;31m# we import * so that the symbol X can be accessed as faiss.X\u001b[0m\u001b[0;34m\u001b[0m\u001b[0;34m\u001b[0m\u001b[0;34m\u001b[0m\u001b[0m\n\u001b[0;32m---> 19\u001b[0;31m \u001b[0;32mfrom\u001b[0m \u001b[0;34m.\u001b[0m\u001b[0mswigfaiss\u001b[0m \u001b[0;32mimport\u001b[0m \u001b[0;34m*\u001b[0m\u001b[0;34m\u001b[0m\u001b[0;34m\u001b[0m\u001b[0m\n\u001b[0m\u001b[1;32m     20\u001b[0m \u001b[0;34m\u001b[0m\u001b[0m\n\u001b[1;32m     21\u001b[0m __version__ = \"%d.%d.%d\" % (FAISS_VERSION_MAJOR,\n",
            "\u001b[0;32m/usr/local/lib/python3.7/dist-packages/faiss/swigfaiss.py\u001b[0m in \u001b[0;36m<module>\u001b[0;34m\u001b[0m\n\u001b[1;32m     96\u001b[0m     \u001b[0m_newclass\u001b[0m \u001b[0;34m=\u001b[0m \u001b[0;36m0\u001b[0m\u001b[0;34m\u001b[0m\u001b[0;34m\u001b[0m\u001b[0m\n\u001b[1;32m     97\u001b[0m \u001b[0;34m\u001b[0m\u001b[0m\n\u001b[0;32m---> 98\u001b[0;31m \u001b[0;32mclass\u001b[0m \u001b[0mFloatVector\u001b[0m\u001b[0;34m(\u001b[0m\u001b[0m_object\u001b[0m\u001b[0;34m)\u001b[0m\u001b[0;34m:\u001b[0m\u001b[0;34m\u001b[0m\u001b[0;34m\u001b[0m\u001b[0m\n\u001b[0m\u001b[1;32m     99\u001b[0m     \u001b[0m__swig_setmethods__\u001b[0m \u001b[0;34m=\u001b[0m \u001b[0;34m{\u001b[0m\u001b[0;34m}\u001b[0m\u001b[0;34m\u001b[0m\u001b[0;34m\u001b[0m\u001b[0m\n\u001b[1;32m    100\u001b[0m     \u001b[0m__setattr__\u001b[0m \u001b[0;34m=\u001b[0m \u001b[0;32mlambda\u001b[0m \u001b[0mself\u001b[0m\u001b[0;34m,\u001b[0m \u001b[0mname\u001b[0m\u001b[0;34m,\u001b[0m \u001b[0mvalue\u001b[0m\u001b[0;34m:\u001b[0m \u001b[0m_swig_setattr\u001b[0m\u001b[0;34m(\u001b[0m\u001b[0mself\u001b[0m\u001b[0;34m,\u001b[0m \u001b[0mFloatVector\u001b[0m\u001b[0;34m,\u001b[0m \u001b[0mname\u001b[0m\u001b[0;34m,\u001b[0m \u001b[0mvalue\u001b[0m\u001b[0;34m)\u001b[0m\u001b[0;34m\u001b[0m\u001b[0;34m\u001b[0m\u001b[0m\n",
            "\u001b[0;32m/usr/local/lib/python3.7/dist-packages/faiss/swigfaiss.py\u001b[0m in \u001b[0;36mFloatVector\u001b[0;34m()\u001b[0m\n\u001b[1;32m    130\u001b[0m     \u001b[0;32mdef\u001b[0m \u001b[0mswap\u001b[0m\u001b[0;34m(\u001b[0m\u001b[0mself\u001b[0m\u001b[0;34m,\u001b[0m \u001b[0mother\u001b[0m\u001b[0;34m)\u001b[0m\u001b[0;34m:\u001b[0m\u001b[0;34m\u001b[0m\u001b[0;34m\u001b[0m\u001b[0m\n\u001b[1;32m    131\u001b[0m         \u001b[0;32mreturn\u001b[0m \u001b[0m_swigfaiss\u001b[0m\u001b[0;34m.\u001b[0m\u001b[0mFloatVector_swap\u001b[0m\u001b[0;34m(\u001b[0m\u001b[0mself\u001b[0m\u001b[0;34m,\u001b[0m \u001b[0mother\u001b[0m\u001b[0;34m)\u001b[0m\u001b[0;34m\u001b[0m\u001b[0;34m\u001b[0m\u001b[0m\n\u001b[0;32m--> 132\u001b[0;31m     \u001b[0m__swig_destroy__\u001b[0m \u001b[0;34m=\u001b[0m \u001b[0m_swigfaiss\u001b[0m\u001b[0;34m.\u001b[0m\u001b[0mdelete_FloatVector\u001b[0m\u001b[0;34m\u001b[0m\u001b[0;34m\u001b[0m\u001b[0m\n\u001b[0m\u001b[1;32m    133\u001b[0m     \u001b[0m__del__\u001b[0m \u001b[0;34m=\u001b[0m \u001b[0;32mlambda\u001b[0m \u001b[0mself\u001b[0m\u001b[0;34m:\u001b[0m \u001b[0;32mNone\u001b[0m\u001b[0;34m\u001b[0m\u001b[0;34m\u001b[0m\u001b[0m\n\u001b[1;32m    134\u001b[0m \u001b[0mFloatVector_swigregister\u001b[0m \u001b[0;34m=\u001b[0m \u001b[0m_swigfaiss\u001b[0m\u001b[0;34m.\u001b[0m\u001b[0mFloatVector_swigregister\u001b[0m\u001b[0;34m\u001b[0m\u001b[0;34m\u001b[0m\u001b[0m\n",
            "\u001b[0;31mAttributeError\u001b[0m: module 'faiss._swigfaiss' has no attribute 'delete_FloatVector'"
          ]
        }
      ]
    },
    {
      "cell_type": "code",
      "source": [
        "from google.colab import drive\n",
        "drive.mount('/drive')\n"
      ],
      "metadata": {
        "colab": {
          "base_uri": "https://localhost:8080/"
        },
        "id": "GajZMI10i8Tp",
        "outputId": "9e630640-aa1e-47f4-9b1d-08dc343e3475"
      },
      "execution_count": 5,
      "outputs": [
        {
          "output_type": "stream",
          "name": "stdout",
          "text": [
            "Mounted at /drive\n"
          ]
        }
      ]
    },
    {
      "cell_type": "code",
      "execution_count": 6,
      "metadata": {
        "id": "pQR4mtc50WKP"
      },
      "outputs": [],
      "source": [
        "import json\n",
        "import numpy\n",
        "file_name = '/drive/MyDrive/pubmed220short.txt'\n",
        "\n",
        "with open(\"documents.json\", \"w\") as outfile:\n",
        "  myList = []\n",
        "  with open(file_name, \"r\") as f:\n",
        "    text = f.readlines()\n",
        "    for i in str(text).split(\"###\"):\n",
        "      doc = i.replace(\"\\\\n\", \"\")\\\n",
        "            .replace(\"BACKGROUND\\\\t\", \"\")\\\n",
        "            .replace(\"OBJECTIVE\\\\t\", \"\")\\\n",
        "            .replace(\"METHODS\\\\t\", \"\")\\\n",
        "            .replace(\"RESULTS\\\\t\", \"\")\\\n",
        "            .replace(\"CONCLUSIONS\\\\t\", \"\")\n",
        "      #print(doc.split())\n",
        "      new_string = \" \".join(doc.split())\n",
        "      id_doc = new_string.replace(\"',\", \"\").replace(\"'\",\"\")\n",
        "      id = id_doc.split()[0]\n",
        "      content = \" \".join(id_doc.split()[1:])\n",
        "      new_content = content.replace(\"[\", \"\").replace('\\\"', \"\").replace(\"]\",\"\")\n",
        "      dictionary = {\n",
        "          \"id\": id,\n",
        "          \"contents\": new_content,\n",
        "      }\n",
        "      if id != '[':\n",
        "        myList.append(dictionary)\n",
        "        #print(dictionary)\n",
        "\n",
        "  json.dump(myList, outfile)\n",
        "  #print(myList)"
      ]
    },
    {
      "cell_type": "code",
      "source": [
        "!python -m pyserini.index.lucene \\\n",
        "  --collection JsonCollection \\\n",
        "  --input /content/samples_json \\\n",
        "  --index /content/indexes/documents_jason \\\n",
        "  --generator DefaultLuceneDocumentGenerator \\\n",
        "  --threads 1 \\\n",
        "  --storePositions --storeDocvectors --storeRaw\\\n",
        "  --storeContents"
      ],
      "metadata": {
        "colab": {
          "base_uri": "https://localhost:8080/"
        },
        "id": "eHF4JLbLi7ZG",
        "outputId": "55df52cb-aa8c-459e-d703-343e84a2dada"
      },
      "execution_count": 36,
      "outputs": [
        {
          "output_type": "stream",
          "name": "stdout",
          "text": [
            "WARNING: sun.reflect.Reflection.getCallerClass is not supported. This will impact performance.\n",
            "2022-10-13 17:52:39,161 INFO  [main] index.IndexCollection (IndexCollection.java:248) - Setting log level to INFO\n",
            "2022-10-13 17:52:39,164 INFO  [main] index.IndexCollection (IndexCollection.java:251) - Starting indexer...\n",
            "2022-10-13 17:52:39,165 INFO  [main] index.IndexCollection (IndexCollection.java:252) - ============ Loading Parameters ============\n",
            "2022-10-13 17:52:39,166 INFO  [main] index.IndexCollection (IndexCollection.java:253) - DocumentCollection path: /content/samples_json\n",
            "2022-10-13 17:52:39,166 INFO  [main] index.IndexCollection (IndexCollection.java:254) - CollectionClass: JsonCollection\n",
            "2022-10-13 17:52:39,167 INFO  [main] index.IndexCollection (IndexCollection.java:255) - Generator: DefaultLuceneDocumentGenerator\n",
            "2022-10-13 17:52:39,167 INFO  [main] index.IndexCollection (IndexCollection.java:256) - Threads: 1\n",
            "2022-10-13 17:52:39,168 INFO  [main] index.IndexCollection (IndexCollection.java:257) - Language: en\n",
            "2022-10-13 17:52:39,168 INFO  [main] index.IndexCollection (IndexCollection.java:258) - Stemmer: porter\n",
            "2022-10-13 17:52:39,169 INFO  [main] index.IndexCollection (IndexCollection.java:259) - Keep stopwords? false\n",
            "2022-10-13 17:52:39,169 INFO  [main] index.IndexCollection (IndexCollection.java:260) - Stopwords: null\n",
            "2022-10-13 17:52:39,170 INFO  [main] index.IndexCollection (IndexCollection.java:261) - Store positions? true\n",
            "2022-10-13 17:52:39,170 INFO  [main] index.IndexCollection (IndexCollection.java:262) - Store docvectors? true\n",
            "2022-10-13 17:52:39,171 INFO  [main] index.IndexCollection (IndexCollection.java:263) - Store document \"contents\" field? true\n",
            "2022-10-13 17:52:39,171 INFO  [main] index.IndexCollection (IndexCollection.java:264) - Store document \"raw\" field? true\n",
            "2022-10-13 17:52:39,171 INFO  [main] index.IndexCollection (IndexCollection.java:265) - Additional fields to index: []\n",
            "2022-10-13 17:52:39,172 INFO  [main] index.IndexCollection (IndexCollection.java:266) - Optimize (merge segments)? false\n",
            "2022-10-13 17:52:39,172 INFO  [main] index.IndexCollection (IndexCollection.java:267) - Whitelist: null\n",
            "2022-10-13 17:52:39,173 INFO  [main] index.IndexCollection (IndexCollection.java:268) - Pretokenized?: false\n",
            "2022-10-13 17:52:39,173 INFO  [main] index.IndexCollection (IndexCollection.java:269) - Index path: /content/indexes/documents_jason\n",
            "2022-10-13 17:52:39,177 INFO  [main] index.IndexCollection (IndexCollection.java:307) - ============ Indexing Collection ============\n",
            "2022-10-13 17:52:39,772 INFO  [main] index.IndexCollection (IndexCollection.java:417) - Thread pool with 1 threads initialized.\n",
            "2022-10-13 17:52:39,773 INFO  [main] index.IndexCollection (IndexCollection.java:419) - Initializing collection in /content/samples_json\n",
            "2022-10-13 17:52:39,776 INFO  [main] index.IndexCollection (IndexCollection.java:428) - 1 file found\n",
            "2022-10-13 17:52:39,777 INFO  [main] index.IndexCollection (IndexCollection.java:429) - Starting to index...\n",
            "2022-10-13 17:53:39,781 INFO  [main] index.IndexCollection (IndexCollection.java:441) - 130,000 documents indexed\n",
            "2022-10-13 17:54:01,480 DEBUG [pool-2-thread-1] index.IndexCollection$LocalIndexerThread (IndexCollection.java:213) - samples_json/documents.json: 190657 docs added.\n",
            "2022-10-13 17:54:10,598 INFO  [main] index.IndexCollection (IndexCollection.java:485) - Indexing Complete! 190,657 documents indexed\n",
            "2022-10-13 17:54:10,599 INFO  [main] index.IndexCollection (IndexCollection.java:486) - ============ Final Counter Values ============\n",
            "2022-10-13 17:54:10,599 INFO  [main] index.IndexCollection (IndexCollection.java:487) - indexed:          190,657\n",
            "2022-10-13 17:54:10,599 INFO  [main] index.IndexCollection (IndexCollection.java:488) - unindexable:            0\n",
            "2022-10-13 17:54:10,599 INFO  [main] index.IndexCollection (IndexCollection.java:489) - empty:                  0\n",
            "2022-10-13 17:54:10,600 INFO  [main] index.IndexCollection (IndexCollection.java:490) - skipped:                0\n",
            "2022-10-13 17:54:10,600 INFO  [main] index.IndexCollection (IndexCollection.java:491) - errors:                 0\n",
            "2022-10-13 17:54:10,605 INFO  [main] index.IndexCollection (IndexCollection.java:494) - Total 190,657 documents indexed in 00:01:31\n"
          ]
        }
      ]
    },
    {
      "cell_type": "code",
      "source": [
        "from pyserini.search.lucene import LuceneSearcher\n",
        "\n",
        "searcher = LuceneSearcher('/content/indexes/documents_jason')\n",
        "hits = searcher.search('cancer')\n",
        "\n",
        "for i in range(len(hits)):\n",
        "    print(f'{i+1:2} {hits[i].docid:4} {hits[i].score:.5f}')\n",
        "    print('{\\n  \"id\" : \"'+hits[i].docid+'\",\\n  \"contents\" : \"'+hits[i].contents+'\"\\n}')\n"
      ],
      "metadata": {
        "colab": {
          "base_uri": "https://localhost:8080/"
        },
        "id": "HXYpq3jASn5M",
        "outputId": "e36d1889-9c2c-4e60-c526-b5884898296a"
      },
      "execution_count": 41,
      "outputs": [
        {
          "output_type": "stream",
          "name": "stdout",
          "text": [
            " 1 24747090 2.50920\n",
            "{\n",
            "  \"id\" : \"24747090\",\n",
            "  \"contents\" : \"We examine the role of body mass index in the assessment of prostate cancer risk . A total of 3,258 participants who underwent biopsy ( including 1,902 men with a diagnosis of prostate cancer ) were identified from the Selenium and Vitamin E Cancer Prevention Trial . The associations of body mass index with prostate cancer and high grade prostate cancer were examined using logistic regression , adjusting for age , race , body mass index adjusted prostate specific antigen , digital rectal examination , family history of prostate cancer , biopsy history , prostate specific antigen velocity , and time between study entry and the last biopsy . The prediction models were compared with our previously developed body mass index adjusted Prostate Cancer Prevention Trial prostate cancer risk calculator . Of the study subjects 49.1 % were overweight and 29.3 % were obese . After adjustment , among men without a known family history of prostate cancer , increased body mass index was not associated with a higher risk of prostate cancer ( per one-unit increase in logBMI OR 0.83 , p = 0.54 ) but was significantly associated with a higher risk of high grade prostate cancer ( ieGleason score 7 or greater prostate cancer ) ( OR 2.31 , p = 0.03 ) . For men with a known family history of prostate cancer the risks of prostate cancer and high grade prostate cancer increased rapidly as body mass index increased ( prostate cancer OR 3.73 , p = 0.02 ; high grade prostate cancer OR 7.95 , p = 0.002 ) . The previously developed risk calculator generally underestimated the risks of prostate cancer and high grade prostate cancer . Body mass index provided independently predictive information regarding the risks of prostate cancer and high grade prostate cancer after adjusting for other risk factors . Body mass index , especially in men with a known family history of prostate cancer , should be considered for inclusion in any clinical assessment of prostate cancer risk and recommendations regarding prostate biopsy .\"\n",
            "}\n",
            " 2 24645632 2.50460\n",
            "{\n",
            "  \"id\" : \"24645632\",\n",
            "  \"contents\" : \"Skin cancer survivors experience an increased risk for subsequent malignancies but the associated risk factors are poorly understood . This study examined the risk of a new primary cancer following an initial skin cancer and assessed risk factors associated with second primary cancers . All invasive cutaneous malignant melanomas ( CMM , N = 28 069 ) and squamous cell carcinomas ( SCC , N = 24 620 ) diagnosed in Norway during 1955-2008 were included . Rates of new primary cancers in skin cancer survivors were compared to rates of primary malignancies in the general population using standardized incidence ratios ( SIR ) . Discrete-time logistic regression models were applied to individual-level data to estimate cancer risk among those with and without a prior skin cancer , accounting for residential region , education , income , parenthood , marital status and parental cancer status , using a 20 % random sample of the entire Norwegian population as reference . Further analyses of the skin cancer cohort were undertaken to determine risk factors related to subsequent cancers . During follow-up , 9608 new primary cancers occurred after an initial skin cancer . SIR analyses showed 50 % and 90 % increased risks for any cancer after CMM and SCC , respectively ( p < 0.01 ) . The logistic regression model suggested even stronger increase after SCC ( 130 % ) . The highest risk was seen for subsequent skin cancers , but several non-skin cancers were also diagnosed in excess : oral , lung , colon , breast , prostate , thyroid , leukemia , lymphoma and central nervous system . Factors that were associated with increased risk of subsequent cancers include male sex , older age , lower residential latitude , being married and low education and income . Parental cancer did not increase the risk of a subsequent cancer after SCC , but was a significant predictor among younger CMM survivors . Our results provide information on shared environmental and genetic risk factors for first and later cancers and may help to identify individuals at high risk for subsequent cancers , which will be important as skin cancer incidence continues to rise .\"\n",
            "}\n",
            " 3 24569437 2.49760\n",
            "{\n",
            "  \"id\" : \"24569437\",\n",
            "  \"contents\" : \"NSABP P-1 provides an opportunity to examine the association of behavioral factors with prospectively monitored cancer incidence and interactions with tamoxifen . From 1992 to 1997 , 13,388 women with estimated 5-year breast cancer risk greater than 1.66 % or a history of lobular carcinoma in situ ( 87 % younger than age 65 ; 67 % postmenopausal ) were randomly assigned to tamoxifen versus placebo . Invasive breast cancer , lung cancer , colon cancer , and endometrial cancer were analyzed with Cox regression . Predictors were baseline cigarette smoking , leisure-time physical activity , alcohol consumption , and established risk factors . At median 7 years follow-up , we observed 395 , 66 , 35 , and 74 breast cancer , lung cancer , colon cancer , and endometrial cancer , respectively . Women who had smoked were at increased risk of breast cancer ( P = 0.007 ; HR = 1.3 for 15-35 years smoking , HR = 1.6 for 35 years ) , lung cancer ( P < 0.001 ; HR = 3.9 for 15-35 years , HR = 18.4 for 35 years ) , and colon cancer ( P < 0.001 ; HR = 5.1 for 35 years ) versus never-smokers . Low activity predicted increased breast cancer risk only among women assigned to placebo ( P = 0.021 activity main effect , P = 0.013 activity-treatment interaction ; HR = 1.4 for the placebo group ) and endometrial cancer among all women ( P = 0.026 , HR = 1.7 ) . Moderate alcohol ( > 0-1 drink/day ) was associated with decreased risk of colon cancer ( P = 0.019 ; HR = 0.35 ) versus no alcohol . There were no other significant associations between these behaviors and cancer risk . Among women with elevated risk of breast cancer , smoking has an even greater impact on breast cancer risk than observed in past studies in the general population . Women who smoke or are inactive should be informed of the increased risk of multiple types of cancer .\"\n",
            "}\n",
            " 4 20859673 2.49170\n",
            "{\n",
            "  \"id\" : \"20859673\",\n",
            "  \"contents\" : \"To assess the association between dietary acrylamide intake and the risk of cancer among male smokers . The study consisted of 27,111 male smokers , aged 50-69 years , without history of cancer . They were participants of the Alpha-Tocopherol , Beta-Carotene Cancer Prevention ( ATBC ) Study in Finland . The men completed a validated dietary questionnaire and a questionnaire on general background characteristics ( including smoking habits ) at baseline . Incident cases of cancer were identified through the national Finnish Cancer Registry . During an average 10.2 year follow-up , 1,703 lung cancers , 799 prostate cancers , 365 urothelial cancers , 316 colorectal cancers , 224 stomach cancers , 192 pancreatic cancers , 184 renal cell cancers , and 175 lymphomas were diagnosed . Dietary acrylamide intake was positively associated with the risk of lung cancer ; relative risk ( RR ) in the highest versus the lowest quintile in the multivariable-adjusted model was 1.18 ( ( 95 % confidence interval ( CI ) 1.01-1 .38 , p for trend 0.11 ) . Other cancers were not associated with acrylamide intake . High acrylamide intake is associated with increased risk of lung cancer but not with other cancers in male smokers .\"\n",
            "}\n",
            " 5 7752269 2.48950\n",
            "{\n",
            "  \"id\" : \"7752269\",\n",
            "  \"contents\" : \"Tamoxifen is being increasingly used for the treatment of breast cancer and is undergoing study for the primary prevention of breast cancer . However , concerns have been raised that the drug may increase the incidence of new primary malignancies , such as endometrial , liver , and colorectal cancers . Our goal was to assess the carcinogenic risks associated with long-term use of tamoxifen in women with early stage breast cancer . The incidence of new primary cancers among 2729 women participants of the Stockholm Trial was determined at a median follow-up of 9 years . In this trial , after primary surgery , postmenopausal patients aged less than 71 years with unilateral invasive breast cancer were randomly allocated to receive either 2 years of adjuvant tamoxifen ( 40 mg daily ) or no adjuvant endocrine therapy . Information on second cancers was obtained by retrospective linkage to the Swedish Cancer Registry . To increase statistical power , a joint analysis of the incidence of endometrial and gastrointestinal cancers was performed in the following three major studies in Scandinavia evaluating adjuvant tamoxifen therapy : the Stockholm Trial , the Danish Breast Cancer Group Trial , and the South-Swedish Trial . These studies included a total of 4914 patients with a median follow-up of 8-9 years . All P values were calculated from two-tailed tests of statistical significance . In the Stockholm Trial , there was a statistically significant ( P = .008 ) reduction in the incidence of second primary cancers in the contralateral breast among the tamoxifen-treated patients . However , there was a nearly sixfold increase in endometrial cancers ( P < .001 ) and a threefold increase in gastrointestinal cancers in the tamoxifen-treated patients . The results of the joint studies showed a statistically significant increase in endometrial cancers among the tamoxifen-treated patients ( relative risk  RR  = 4.1 ; 95 % confidence interval  CI  = 1.9-8 .9 ) . There was also an excess of gastrointestinal cancers associated with tamoxifen . Most of this excess involved colorectal cancers ( RR = 1.9 ; 95 % CI = 1.1-3 .3 ) and stomach cancer ( RR = 3.2 ; 95 % CI = 0.9-11 .7 ) . There was no substantial increase in any other type of gastrointestinal cancer ( e.g. , liver cancer ) among the tamoxifen-treated patients . The endometrium and gastrointestinal organs may be target sites for tamoxifen-induced carcinogenesis in humans . The increased incidence of colorectal and stomach cancers reported here should be regarded as tentative until supported by long-term data from a larger number of tamoxifen trials . Also , appropriate surveillance of cancer incidence is warranted for the protection of participants enrolled in current tamoxifen chemoprevention trials .\"\n",
            "}\n",
            " 6 25017249 2.48910\n",
            "{\n",
            "  \"id\" : \"25017249\",\n",
            "  \"contents\" : \"The World Cancer Research Fund ( WCRF ) and the American Institute for Cancer Research ( AICR ) published eight recommendations for cancer prevention , but they are not targeted at prostate cancer prevention . We investigated whether adherence to the WCRF/AICR recommendations and a prostate cancer dietary index is associated with prostate cancer risk . We conducted a nested case-control study of 1,806 prostate-specific antigen ( PSA ) - detected prostate cancer cases and 12,005 controls in the ProtecT trial . We developed a prostate cancer dietary index by incorporating three dietary factors most strongly associated with prostate cancer . Scores were computed to quantify adherence to the WCRF/AICR recommendations and the prostate cancer dietary index separately . The prostate cancer dietary index score was associated with decreased risk of prostate cancer  OR per 1 score increment : 0.91 ; 95 % confidence interval ( CI ) : 0.84-0 .99 ; Ptrend = 0.04  but the WCRF/AICR index score was not ( OR : 0.99 ; 95 % CI : 0.94-1 .05 ; Ptrend = 0.71 ) . There was no heterogeneity in association by prostate cancer stage ( P = 0.81 ) or grade ( P = 0.61 ) . Greater adherence to recommendations to increase plant foods ( OR per 0.25 index score increment : 0.94 ; 95 % CI : 0.89-0 .99 ; Ptrend = 0.02 ) and tomato products ( OR adherence vs. nonadherence : 0.82 ; 95 % CI : 0.70-0 .97 ; P = 0.02 ) was inversely associated with overall prostate cancer risk . Adherence to the prostate cancer-specific dietary recommendations was associated with decreased risk of prostate cancer . High intake of plant foods and tomato products in particular may help protect against prostate cancer . Meeting the WCRF/AICR recommendations alone is insufficient for prostate cancer prevention . Additional dietary recommendations should be developed .\"\n",
            "}\n",
            " 7 23448100 2.48700\n",
            "{\n",
            "  \"id\" : \"23448100\",\n",
            "  \"contents\" : \"The Michigan Prevention Research Center , the University of Michigan Schools of Nursing , Public Health , and Medicine , and the Michigan Department of Community Health propose a multidisciplinary academic-clinical practice three-year project to increase breast cancer screening among young breast cancer survivors and their cancer-free female relatives at greatest risk for breast cancer . The study has three specific aims : 1 ) Identify and survey 3,000 young breast cancer survivors ( diagnosed at 20-45 years old ) regarding their breast cancer screening utilization . 2 ) Identify and survey survivors high-risk relatives regarding their breast cancer screening utilization ., 3 ) Test two versions ( Targeted vs. Enhanced Tailored ) of an intervention to increase breast cancer screening among survivors and relatives . Following approval by human subjects review boards , 3,000 young breast cancer survivors will be identified through the Michigan Cancer Registry and mailed an invitation letter and a baseline survey . The baseline survey will obtain information on the survivors : a ) current breast cancer screening status and use of genetic counseling ; b ) perceived barriers and facilitators to screening ; c ) family health history ., Based on the family history information provided by survivors , we will identify up to two high-risk relatives per survivor . Young breast cancer survivors will be mailed consent forms and baseline surveys to distribute to their selected high-risk relatives . Relatives baseline survey will obtain information on their : a ) current breast cancer screening status and use of genetic counseling ; and b ) perceived barriers and facilitators to screening ., Young breast cancer survivors and high-risk relatives will be randomized as a family unit to receive two versions of an intervention aiming to increase breast cancer screening and use of cancer genetic services . A follow-up survey will be mailed 9 months after the intervention to survivors and high-risk relatives to evaluate the efficacy of each intervention version on : a ) use of breast cancer screening and genetic counseling ; b ) perceived barriers and facilitators to screening ; c ) self-efficacy in utilizing cancer genetic and screening services ; d ) family support related to screening ; e ) knowledge of breast cancer genetics ; and f ) satisfaction with the intervention . The study will enhance efforts of the state of Michigan surrounding cancer prevention , control , and public health genomics .\"\n",
            "}\n",
            " 8 10214599 2.48430\n",
            "{\n",
            "  \"id\" : \"10214599\",\n",
            "  \"contents\" : \"To evaluate the effectiveness of a video intervention in decreasing cancer fatalism , increasing knowledge of colorectal cancer , and increasing participation in fecal-occult blood testing ( FOBT ) . Repeated measures , pretest/post-test . Senior citizen centers in a rural southern state . Individuals were selected and assigned to the study group based on the center they attended . Centers were selected and assigned randomly to an intervention ( n = 42 ) or control ( n = 28 ) group . The age of the participants ranged from 52-92 years ( X = 75 ) . Pretest measures included the Powe Fatalism inventory , the Colorectal Cancer Knowledge Questionnaire , and the Demographic Data Questionnaire . The intervention group viewed the Medical University of South Carolina s video Telling the Story ... To Live is God s Will , and the control group viewed the American Cancer Society ( ACS ) video Colorectal Cancer : The Cancer No One Talks About ., Hemoccult II kits were distributed to both groups at no cost . Post-test data were collected using the Powe Fatalism Inventory and the Colorectal Cancer Knowledge Questionnaire . Cancer fatalism , knowledge of colorectal cancer , and participation in FOBT . People who viewed the intervention video had a greater decrease in cancer fatalism scores and a greater increase in knowledge of colorectal cancer scores than the control group . Both groups had greater than 60 % participation in FOBT . Telling the Story ... To Live is God s Will is an effective , self-contained , cost-effective intervention to decrease cancer fatalism and increase knowledge of colorectal cancer ., The video was as effective as the ACS video on colorectal cancer in increasing participation in FOBT among rural elders . But , because Telling the Story ... To Live is God s Will also decreases cancer fatalism and increases knowledge , the potential exists for the increased screening behaviors to be maintained over time ., Showing the video in waiting areas of community health centers to facilitate the discussion of colorectal cancer and cancer screening with the healthcare professional is a possibility . Nursing students may benefit from using the video as a model for the integration of beliefs and attitudes in developing culturally appropriate , community-based interventions . More research is needed to determine if the positive outcomes of the intervention ( i.e. , decreased cancer fatalism , increased knowledge , increased participation in colorectal cancer screening ) can be maintained over time .\"\n",
            "}\n",
            " 9 23694983 2.48430\n",
            "{\n",
            "  \"id\" : \"23694983\",\n",
            "  \"contents\" : \"Eastern Africa has the highest incidence and mortality rates from cervical cancer worldwide . It is important to describe the differences among women and their perceived risk of cervical cancer to determine target groups to increase cervical cancer screening . In this cross-sectional study , we surveyed women seeking reproductive health services in Kisumu , Kenya to assess their perceived risk of cervical cancer and risk factors influencing cervical cancer screening uptake . statistics and t tests were used to determine significant factors , which were incorporated into a logistic model to determine factors independently associated with cervical cancer risk perception . Whereas 91 % of the surveyed women had heard of cancer , only 29 % of the 388 surveyed women had previously heard of cervical cancer . Most had received their information from health care workers . Few women ( 6 % ) had ever been screened for cervical cancer and cited barriers such as fear , time , and lack of knowledge about cervical cancer . Nearly all previously screened women ( 22/24  92 %  ) believed that cervical cancer was curable if detected early and that screening should be conducted annually ( 86 % ) . Most women ( 254/388  65 %  ) felt they were at risk for cervical cancer . Women with perceived risk of cervical cancer were older ( odds ratio  OR  , 1.06 ; 95 % confidence interval  CI  , 1.02-1 .10 ) , reported a history of marriage ( OR , 2.08 ; CI , 1.00-4 .30 ) , were less likely to feel adequately informed about cervical cancer by health care providers ( OR , 0.76 ; CI , 0.18-0 .83 ) , and more likely to intend to have cervical cancer screening in the future ( OR , 10.59 ; CI , 3.96-28 .30 ) . Only 5 % of the women reported that they would not be willing to undergo screening regardless of cost . Cervical cancer is a major health burden for women in sub-Saharan Africa , yet only one third of the women had ever heard of cervical cancer in Kisumu , Kenya . Understanding factors associated with women s perceived risk of cervical cancer could guide future educational and clinical interventions to increase cervical cancer screening .,\"\n",
            "}\n",
            "10 25008853 2.47790\n",
            "{\n",
            "  \"id\" : \"25008853\",\n",
            "  \"contents\" : \"Recent posttrial analysis of a completed randomized trial found an increased risk of prostate cancer among healthy men taking high-dose vitamin E supplements . Trials that examined the effect of vitamin C supplements on cancer risk are few . We examined whether vitamin E or vitamin C supplementation affects the risk of cancer events during posttrial follow-up of the Physicians Health Study II ., Beginning in 1997 , a total of 14,641 US male physicians aged 50 y were randomly assigned to receive 400 IU of vitamin E every other day , 500 mg of vitamin C daily , or their respective placebos . The vitamin E and vitamin C treatment ended in 2007 , and observational follow-up continued through June 2011 . This study included an additional 356 cases of incident prostate cancer and 771 total cancers that developed during a mean ( maximum ) of 2.8 ( 3.8 ) y of posttrial observation . During an overall mean of 10.3 ( 13.8 ) y , there were a total of 1373 incident prostate cancers and 2669 total cancers documented . In comparison with placebo , vitamin E supplementation had no effect on the incidence of prostate cancer ( HR : 0.99 ; 95 % CI : 0.89 , 1.10 ) or total cancers ( HR : 1.02 ; 95 % CI : 0.95 , 1.10 ) . There was also no effect of vitamin C supplementation on total cancers ( HR : 1.02 ; 95 % CI : 0.94 , 1.10 ) or incident prostate cancer ( HR : 1.03 ; 95 % CI : 0.93 , 1.15 ) . Neither vitamin E nor vitamin C supplementation had effects on other site-specific cancers overall . Stratification by known cancer risk factors , history of cancer , other randomized treatment , and follow-up time showed no significant interactions . In this large-scale randomized trial in men , vitamin E and C supplementation had no immediate or long-term effects on the risk of total cancers , prostate cancer , or other site-specific cancers .\"\n",
            "}\n"
          ]
        }
      ]
    }
  ]
}